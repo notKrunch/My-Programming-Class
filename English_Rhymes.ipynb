{
  "nbformat": 4,
  "nbformat_minor": 0,
  "metadata": {
    "colab": {
      "provenance": [],
      "authorship_tag": "ABX9TyNGGCTWjQmlTexjNVDaA1ay",
      "include_colab_link": true
    },
    "kernelspec": {
      "name": "python3",
      "display_name": "Python 3"
    },
    "language_info": {
      "name": "python"
    }
  },
  "cells": [
    {
      "cell_type": "markdown",
      "metadata": {
        "id": "view-in-github",
        "colab_type": "text"
      },
      "source": [
        "<a href=\"https://colab.research.google.com/github/notKrunch/My-Programming-Class/blob/main/English_Rhymes.ipynb\" target=\"_parent\"><img src=\"https://colab.research.google.com/assets/colab-badge.svg\" alt=\"Open In Colab\"/></a>"
      ]
    },
    {
      "cell_type": "code",
      "execution_count": 8,
      "metadata": {
        "colab": {
          "base_uri": "https://localhost:8080/"
        },
        "id": "q71MagWdsAgi",
        "outputId": "201ea476-44cf-4bd1-fd7a-672d2293c618"
      },
      "outputs": [
        {
          "output_type": "stream",
          "name": "stdout",
          "text": [
            "Daddy finger, daddy finger\n",
            "Where are you?\n",
            "Here I am\n",
            "Here I am\n",
            "How do you do?\n",
            "Mommy finger, mommy finger\n",
            "Where are you?\n",
            "Here I am\n",
            "Here I am\n",
            "How do you do?\n",
            "Brother finger, brother finger\n",
            "Where are you?\n",
            "Here I am\n",
            "Here I am\n",
            "How do you do?\n",
            "Sister finger, sister finger\n",
            "Where are you?\n",
            "Here I am\n",
            "Here I am\n",
            "How do you do?\n",
            "Baby finger, baby finger\n",
            "Where are you?\n",
            "Here I am\n",
            "Here I am\n",
            "How do you do?\n"
          ]
        }
      ],
      "source": [
        "print(\"Daddy finger, daddy finger\")\n",
        "print(\"Where are you?\")\n",
        "print(\"Here I am\")\n",
        "print(\"Here I am\")\n",
        "print(\"How do you do?\")\n",
        "print(\"Mommy finger, mommy finger\")\n",
        "print(\"Where are you?\")\n",
        "print(\"Here I am\")\n",
        "print(\"Here I am\")\n",
        "print(\"How do you do?\")\n",
        "print(\"Brother finger, brother finger\")\n",
        "print(\"Where are you?\")\n",
        "print(\"Here I am\")\n",
        "print(\"Here I am\")\n",
        "print(\"How do you do?\")\n",
        "print(\"Sister finger, sister finger\")\n",
        "print(\"Where are you?\")\n",
        "print(\"Here I am\")\n",
        "print(\"Here I am\")\n",
        "print(\"How do you do?\")\n",
        "print(\"Baby finger, baby finger\")\n",
        "print(\"Where are you?\")\n",
        "print(\"Here I am\")\n",
        "print(\"Here I am\")\n",
        "print(\"How do you do?\")"
      ]
    },
    {
      "cell_type": "code",
      "source": [
        "import sys\n",
        "print(\"Python version\")\n",
        "print(sys.version)\n",
        "\n",
        "print(\"Version info.\")\n",
        "print(sys.version_info)"
      ],
      "metadata": {
        "colab": {
          "base_uri": "https://localhost:8080/"
        },
        "id": "L2CIptwCz3tP",
        "outputId": "4d5ce593-75f3-4171-ea21-f10b3d74544b"
      },
      "execution_count": 9,
      "outputs": [
        {
          "output_type": "stream",
          "name": "stdout",
          "text": [
            "Python version\n",
            "3.7.14 (default, Sep  8 2022, 00:06:44) \n",
            "[GCC 7.5.0]\n",
            "Version info.\n",
            "sys.version_info(major=3, minor=7, micro=14, releaselevel='final', serial=0)\n"
          ]
        }
      ]
    },
    {
      "cell_type": "code",
      "source": [
        "from platform import python_version\n",
        "print(python_version())"
      ],
      "metadata": {
        "colab": {
          "base_uri": "https://localhost:8080/"
        },
        "id": "AC535JB-1A74",
        "outputId": "b6dd9b9e-7058-4fe8-a22c-e740a9181e20"
      },
      "execution_count": 10,
      "outputs": [
        {
          "output_type": "stream",
          "name": "stdout",
          "text": [
            "3.7.14\n"
          ]
        }
      ]
    },
    {
      "cell_type": "code",
      "source": [
        "from datetime import date\n",
        "today = date.today()\n",
        "print(\"Today's date:\", today)"
      ],
      "metadata": {
        "colab": {
          "base_uri": "https://localhost:8080/"
        },
        "id": "Wmw6RieQ1grk",
        "outputId": "83bfcaf2-5626-4d3f-c409-8c183a897544"
      },
      "execution_count": 11,
      "outputs": [
        {
          "output_type": "stream",
          "name": "stdout",
          "text": [
            "Today's date: 2022-09-29\n"
          ]
        }
      ]
    },
    {
      "cell_type": "code",
      "source": [
        "from datetime import date\n",
        "today = date.today()\n",
        "# dd/mm/YY\n",
        "d1 = today.strftime(\"%d/%m/%Y\")\n",
        "print(\"d1=\", d1)\n",
        "# Textual month, day and year\n",
        "d2 = today.strftime(\"%B %d, %Y\")\n",
        "print(\"d2=\", d2)\n",
        "# mm/dd/y\n",
        "d3 = today.strftime(\"%m/%d/%y\")\n",
        "print(\"d3=\", d3)\n",
        "# Month abbreviation, day and year\n",
        "d4 = today.strftime(\"%b-%d-%Y\")\n",
        "print(\"d4=\", d4)"
      ],
      "metadata": {
        "colab": {
          "base_uri": "https://localhost:8080/"
        },
        "id": "zARlM-HK2mk9",
        "outputId": "56050c4c-3c30-4277-f229-7df934177e68"
      },
      "execution_count": 18,
      "outputs": [
        {
          "output_type": "stream",
          "name": "stdout",
          "text": [
            "d1= 29/09/2022\n",
            "d2= September 29, 2022\n",
            "d3= 09/29/22\n",
            "d4= Sep-29-2022\n"
          ]
        }
      ]
    },
    {
      "cell_type": "code",
      "source": [
        "from datetime import datetime\n",
        "# datetime object containing current date and time\n",
        "now = datetime.now()\n",
        "\n",
        "print(\"now=\", now)\n",
        "\n",
        "# dd/mm/YY H:M:S\n",
        "dt_string = now .strftime(\"%d/%m/%Y %H:M:S\")\n",
        "print(\"date and time=\", dt_string)\n"
      ],
      "metadata": {
        "colab": {
          "base_uri": "https://localhost:8080/"
        },
        "id": "kmeaJ_eW4SpN",
        "outputId": "1b5ce4b6-6948-4850-ce38-4c1ef607ee83"
      },
      "execution_count": 20,
      "outputs": [
        {
          "output_type": "stream",
          "name": "stdout",
          "text": [
            "now= 2022-09-29 15:36:07.770227\n",
            "date and time= 29/09/2022 15:M:S\n"
          ]
        }
      ]
    }
  ]
}