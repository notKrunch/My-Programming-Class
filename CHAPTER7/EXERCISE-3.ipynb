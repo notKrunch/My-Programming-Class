{
  "nbformat": 4,
  "nbformat_minor": 0,
  "metadata": {
    "colab": {
      "provenance": [],
      "collapsed_sections": [],
      "authorship_tag": "ABX9TyOrVuCu30pE6RjPwK25uCyy",
      "include_colab_link": true
    },
    "kernelspec": {
      "name": "python3",
      "display_name": "Python 3"
    },
    "language_info": {
      "name": "python"
    }
  },
  "cells": [
    {
      "cell_type": "markdown",
      "metadata": {
        "id": "view-in-github",
        "colab_type": "text"
      },
      "source": [
        "<a href=\"https://colab.research.google.com/github/notKrunch/My-Programming-Class/blob/main/CHAPTER7/EXERCISE-3.ipynb\" target=\"_parent\"><img src=\"https://colab.research.google.com/assets/colab-badge.svg\" alt=\"Open In Colab\"/></a>"
      ]
    },
    {
      "cell_type": "code",
      "execution_count": 5,
      "metadata": {
        "colab": {
          "base_uri": "https://localhost:8080/"
        },
        "id": "9yK2uhw6dJ6p",
        "outputId": "92556875-0434-48df-d20a-a7098e149c2b"
      },
      "outputs": [
        {
          "output_type": "stream",
          "name": "stdout",
          "text": [
            "\n",
            "The size of the shirt is Large and message printed on the shirt is 'Hello World!'. \n"
          ]
        }
      ],
      "source": [
        "def shirt(size,msg):\n",
        "  print(f\"\\nThe size of the shirt is {size.title()} and message printed on the shirt is '{msg.title()}!'. \")\n",
        "shirt(size='Large', msg= 'Hello World')"
      ]
    }
  ]
}