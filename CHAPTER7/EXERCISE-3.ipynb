{
  "nbformat": 4,
  "nbformat_minor": 0,
  "metadata": {
    "colab": {
      "provenance": [],
      "collapsed_sections": [],
      "authorship_tag": "ABX9TyPFUz/+w3PcIkghcyBV2vIh",
      "include_colab_link": true
    },
    "kernelspec": {
      "name": "python3",
      "display_name": "Python 3"
    },
    "language_info": {
      "name": "python"
    }
  },
  "cells": [
    {
      "cell_type": "markdown",
      "metadata": {
        "id": "view-in-github",
        "colab_type": "text"
      },
      "source": [
        "<a href=\"https://colab.research.google.com/github/notKrunch/My-Programming-Class/blob/main/CHAPTER7/EXERCISE-3.ipynb\" target=\"_parent\"><img src=\"https://colab.research.google.com/assets/colab-badge.svg\" alt=\"Open In Colab\"/></a>"
      ]
    },
    {
      "cell_type": "code",
      "execution_count": 2,
      "metadata": {
        "colab": {
          "base_uri": "https://localhost:8080/"
        },
        "id": "9yK2uhw6dJ6p",
        "outputId": "519d2c98-e9c4-4d3a-8935-9c261f3be07b"
      },
      "outputs": [
        {
          "output_type": "stream",
          "name": "stdout",
          "text": [
            "\n",
            "The size of the shirt is Large and message printed on the shirt is 'Hello World!'. \n"
          ]
        }
      ],
      "source": [
        "def make_shirt(size,message):\n",
        "  print(f\"\\nThe size of the shirt is {size.title()} and message printed on the shirt is '{message.title()}!'. \")\n",
        "make_shirt(size='Large', message= 'Hello World')"
      ]
    },
    {
      "cell_type": "markdown",
      "source": [],
      "metadata": {
        "id": "GdjQAkkjKaRs"
      }
    }
  ]
}