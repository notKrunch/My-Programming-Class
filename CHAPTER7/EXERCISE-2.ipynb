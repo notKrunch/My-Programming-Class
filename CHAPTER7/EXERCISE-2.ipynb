{
  "nbformat": 4,
  "nbformat_minor": 0,
  "metadata": {
    "colab": {
      "provenance": [],
      "collapsed_sections": [],
      "authorship_tag": "ABX9TyP7SR0EACDPsPiPqnhOffxI",
      "include_colab_link": true
    },
    "kernelspec": {
      "name": "python3",
      "display_name": "Python 3"
    },
    "language_info": {
      "name": "python"
    }
  },
  "cells": [
    {
      "cell_type": "markdown",
      "metadata": {
        "id": "view-in-github",
        "colab_type": "text"
      },
      "source": [
        "<a href=\"https://colab.research.google.com/github/notKrunch/My-Programming-Class/blob/main/CHAPTER7/EXERCISE-2.ipynb\" target=\"_parent\"><img src=\"https://colab.research.google.com/assets/colab-badge.svg\" alt=\"Open In Colab\"/></a>"
      ]
    },
    {
      "cell_type": "code",
      "execution_count": 2,
      "metadata": {
        "colab": {
          "base_uri": "https://localhost:8080/"
        },
        "id": "7cEih5s_bMkx",
        "outputId": "3ec201b7-0e24-4260-ba14-4c468d764e2f"
      },
      "outputs": [
        {
          "output_type": "stream",
          "name": "stdout",
          "text": [
            "\n",
            "My favorite books are Narnia and Game Of Thrones! \n"
          ]
        }
      ],
      "source": [
        "# exercise 2\n",
        "def favorite_book(book1,book2):\n",
        "  print(f\"\\nMy favorite books are {book1.title()} and {book2.title()}! \")\n",
        "favorite_book(book1='Narnia', book2= 'Game of Thrones')"
      ]
    }
  ]
}