{
  "nbformat": 4,
  "nbformat_minor": 0,
  "metadata": {
    "colab": {
      "provenance": [],
      "collapsed_sections": [],
      "authorship_tag": "ABX9TyMQK9SeWX5GPJk1D9cOTB5B",
      "include_colab_link": true
    },
    "kernelspec": {
      "name": "python3",
      "display_name": "Python 3"
    },
    "language_info": {
      "name": "python"
    }
  },
  "cells": [
    {
      "cell_type": "markdown",
      "metadata": {
        "id": "view-in-github",
        "colab_type": "text"
      },
      "source": [
        "<a href=\"https://colab.research.google.com/github/notKrunch/My-Programming-Class/blob/main/CHAPTER7/EXERCISE-4.ipynb\" target=\"_parent\"><img src=\"https://colab.research.google.com/assets/colab-badge.svg\" alt=\"Open In Colab\"/></a>"
      ]
    },
    {
      "cell_type": "code",
      "execution_count": 2,
      "metadata": {
        "colab": {
          "base_uri": "https://localhost:8080/"
        },
        "id": "QaM82GnRfAmc",
        "outputId": "7a10bf90-b7e4-46df-b8f8-114e8f3ef53a"
      },
      "outputs": [
        {
          "output_type": "stream",
          "name": "stdout",
          "text": [
            "\n",
            "The size of the shirt is Large and message printed on the shirt is 'I Love Python!'. \n",
            "\n",
            "The size of the shirt is Medium and message printed on the shirt is 'I Love Python!'. \n",
            "\n",
            "The size of the shirt is Small and message printed on the shirt is 'I Love You!'. \n"
          ]
        }
      ],
      "source": [
        "def make_shirt(size,size1,size2,message,message1,message2):\n",
        "  print(f\"\\nThe size of the shirt is {size.title()} and message printed on the shirt is '{message.title()}!'. \")\n",
        "  print(f\"\\nThe size of the shirt is {size1.title()} and message printed on the shirt is '{message1.title()}!'. \")\n",
        "  print(f\"\\nThe size of the shirt is {size2.title()} and message printed on the shirt is '{message2.title()}!'. \")\n",
        "make_shirt(size='Large', size1='Medium', size2= 'Small', message= 'I love Python', message1= 'I love Python', message2= 'I love you')"
      ]
    }
  ]
}