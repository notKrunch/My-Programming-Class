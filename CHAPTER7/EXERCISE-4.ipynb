{
  "nbformat": 4,
  "nbformat_minor": 0,
  "metadata": {
    "colab": {
      "provenance": [],
      "collapsed_sections": [],
      "authorship_tag": "ABX9TyMq60O2EIKfylJU0lEhMm/k",
      "include_colab_link": true
    },
    "kernelspec": {
      "name": "python3",
      "display_name": "Python 3"
    },
    "language_info": {
      "name": "python"
    }
  },
  "cells": [
    {
      "cell_type": "markdown",
      "metadata": {
        "id": "view-in-github",
        "colab_type": "text"
      },
      "source": [
        "<a href=\"https://colab.research.google.com/github/notKrunch/My-Programming-Class/blob/main/CHAPTER7/EXERCISE-4.ipynb\" target=\"_parent\"><img src=\"https://colab.research.google.com/assets/colab-badge.svg\" alt=\"Open In Colab\"/></a>"
      ]
    },
    {
      "cell_type": "code",
      "execution_count": 3,
      "metadata": {
        "colab": {
          "base_uri": "https://localhost:8080/"
        },
        "id": "QaM82GnRfAmc",
        "outputId": "cb6f1216-9cd5-4f62-ed55-a507e909cff5"
      },
      "outputs": [
        {
          "output_type": "stream",
          "name": "stdout",
          "text": [
            "\n",
            "The size of the shirt is Large and message printed on the shirt is 'I Love Python!'. \n",
            "\n",
            "The size of the shirt is Medium and message printed on the shirt is 'I Love Python!'. \n",
            "\n",
            "The size of the shirt is Small and message printed on the shirt is 'I Love You!'. \n"
          ]
        }
      ],
      "source": [
        "def shirt(size,size1,size2,msg,msg1,msg2):\n",
        "  print(f\"\\nThe size of the shirt is {size.title()} and message printed on the shirt is '{msg.title()}!'. \")\n",
        "  print(f\"\\nThe size of the shirt is {size1.title()} and message printed on the shirt is '{msg1.title()}!'. \")\n",
        "  print(f\"\\nThe size of the shirt is {size2.title()} and message printed on the shirt is '{msg2.title()}!'. \")\n",
        "shirt(size='Large', size1='Medium', size2= 'Small', msg= 'I love Python', msg1= 'I love Python', msg2= 'I love you')"
      ]
    }
  ]
}