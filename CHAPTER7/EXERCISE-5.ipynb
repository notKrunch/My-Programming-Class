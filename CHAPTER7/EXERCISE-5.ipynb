{
  "nbformat": 4,
  "nbformat_minor": 0,
  "metadata": {
    "colab": {
      "provenance": [],
      "collapsed_sections": [],
      "authorship_tag": "ABX9TyNU2eu8tpXVIZxTndEq5a2T",
      "include_colab_link": true
    },
    "kernelspec": {
      "name": "python3",
      "display_name": "Python 3"
    },
    "language_info": {
      "name": "python"
    }
  },
  "cells": [
    {
      "cell_type": "markdown",
      "metadata": {
        "id": "view-in-github",
        "colab_type": "text"
      },
      "source": [
        "<a href=\"https://colab.research.google.com/github/notKrunch/My-Programming-Class/blob/main/CHAPTER7/EXERCISE-5.ipynb\" target=\"_parent\"><img src=\"https://colab.research.google.com/assets/colab-badge.svg\" alt=\"Open In Colab\"/></a>"
      ]
    },
    {
      "cell_type": "code",
      "execution_count": null,
      "metadata": {
        "colab": {
          "base_uri": "https://localhost:8080/"
        },
        "id": "9AnC_AfLgb4C",
        "outputId": "a0bdb277-0985-424c-cf0c-3f7e97c38d50"
      },
      "outputs": [
        {
          "output_type": "stream",
          "name": "stdout",
          "text": [
            "\n",
            "Beijing is in China.\n",
            "\n",
            "Manila is in Philippines.\n",
            "\n",
            "Berlin is in Germany.\n"
          ]
        }
      ],
      "source": [
        "# Writing a function that shows the city is located at that country\n",
        "def cc(city1,city2,city3,country1,country2,country3):\n",
        " print(f\"\\n{city1.title()} is in {country1.title()}.\")\n",
        " print(f\"\\n{city2.title()} is in {country2.title()}.\")\n",
        " print(f\"\\n{city3.title()} is in {country3.title()}.\")\n",
        "cc(city1='beijing',city2='manila',city3='berlin',country1='china',country2='philippines',country3='germany') "
      ]
    }
  ]
}