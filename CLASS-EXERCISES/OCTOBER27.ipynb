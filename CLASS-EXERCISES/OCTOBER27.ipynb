{
  "nbformat": 4,
  "nbformat_minor": 0,
  "metadata": {
    "colab": {
      "provenance": [],
      "collapsed_sections": [],
      "authorship_tag": "ABX9TyONzkh3/ELtAap4GX6oJpxm",
      "include_colab_link": true
    },
    "kernelspec": {
      "name": "python3",
      "display_name": "Python 3"
    },
    "language_info": {
      "name": "python"
    }
  },
  "cells": [
    {
      "cell_type": "markdown",
      "metadata": {
        "id": "view-in-github",
        "colab_type": "text"
      },
      "source": [
        "<a href=\"https://colab.research.google.com/github/notKrunch/My-Programming-Class/blob/main/CLASS-EXERCISES/OCTOBER27.ipynb\" target=\"_parent\"><img src=\"https://colab.research.google.com/assets/colab-badge.svg\" alt=\"Open In Colab\"/></a>"
      ]
    },
    {
      "cell_type": "code",
      "execution_count": null,
      "metadata": {
        "colab": {
          "base_uri": "https://localhost:8080/"
        },
        "id": "_FLpIf5-3XDA",
        "outputId": "b0894618-1e81-4414-eb8c-7f42cdc9d0e7"
      },
      "outputs": [
        {
          "output_type": "stream",
          "name": "stdout",
          "text": [
            "1\n",
            "2\n",
            "3\n",
            "4\n",
            "5\n",
            "6\n",
            "7\n",
            "8\n",
            "9\n",
            "10\n"
          ]
        }
      ],
      "source": [
        "#It will print numbers 0 to 10\n",
        "count = 1\n",
        "while count <= 10:\n",
        "\n",
        " print(count)\n",
        " count +=1\n"
      ]
    },
    {
      "cell_type": "code",
      "source": [
        "c_name = \"\\nPlease enter the name of a country you want to visit:\"\n",
        "c_name += \"\\n(Enter 'quit' when you are finished.) \"\n",
        "\n",
        "while True:\n",
        "   country = input(c_name)\n",
        "\n",
        "   if country == 'quit': \n",
        "                  break\n",
        "   else:\n",
        "        print(f\"I'd love to go to {country.title()}!\")             "
      ],
      "metadata": {
        "colab": {
          "base_uri": "https://localhost:8080/"
        },
        "id": "2N1c3dD45lFI",
        "outputId": "41a1c305-4151-4f8c-cc69-3f7122e4b5c7"
      },
      "execution_count": null,
      "outputs": [
        {
          "name": "stdout",
          "output_type": "stream",
          "text": [
            "\n",
            "Please enter the name of a country you want to visit:\n",
            "(Enter 'quit' when you are finished.) france\n",
            "I'd love to go to France!\n",
            "\n",
            "Please enter the name of a country you want to visit:\n",
            "(Enter 'quit' when you are finished.) quit\n"
          ]
        }
      ]
    },
    {
      "cell_type": "code",
      "source": [
        "count = 0\n",
        "while count < 10:\n",
        "  count += 1\n",
        "  if count % 2 == 0:\n",
        "   continue\n",
        "  print(count)\n",
        "else: \n",
        "  print(\"Loop Terminated.\")  "
      ],
      "metadata": {
        "colab": {
          "base_uri": "https://localhost:8080/"
        },
        "id": "ZKnkX-hH97go",
        "outputId": "72636022-2c04-4dea-d3c1-b8627a10ae07"
      },
      "execution_count": null,
      "outputs": [
        {
          "output_type": "stream",
          "name": "stdout",
          "text": [
            "1\n",
            "3\n",
            "5\n",
            "7\n",
            "9\n",
            "Loop Terminated.\n"
          ]
        }
      ]
    },
    {
      "cell_type": "code",
      "source": [
        "flower= ['lily','rose','sunflower','daisy']\n",
        "for flower in flower:\n",
        " print(flower) "
      ],
      "metadata": {
        "colab": {
          "base_uri": "https://localhost:8080/"
        },
        "id": "bZ96lW8dAY7M",
        "outputId": "37f62f04-9cc6-4070-b85c-3424913239ce"
      },
      "execution_count": null,
      "outputs": [
        {
          "output_type": "stream",
          "name": "stdout",
          "text": [
            "lily\n",
            "rose\n",
            "sunflower\n",
            "daisy\n"
          ]
        }
      ]
    },
    {
      "cell_type": "code",
      "source": [
        "name = {'NAME':'Ryan Lumbes', 'ID':'2022358','COURSE':'Creative Computing'}\n",
        "print('Display key-value pairs')\n",
        "for key, value in name.items():\n",
        "  print(f\"\\nKey: {key}\")\n",
        "  print(f\"Value: {value}\")\n",
        "\n",
        "print(\"\\nDisplay only keys:\")\n",
        "for key in name.keys():\n",
        "  print(key) \n",
        "\n",
        "print(\"\\nDisplay only value:\")\n",
        "for value in name.values():\n",
        "  print(value)\n",
        "\n",
        "name['GENDER'] ='Male'\n",
        "print(name) \n"
      ],
      "metadata": {
        "colab": {
          "base_uri": "https://localhost:8080/"
        },
        "id": "_vnHtAIyECpp",
        "outputId": "b6e1aa6c-2b62-4a8c-eb48-3162027bf9b6"
      },
      "execution_count": null,
      "outputs": [
        {
          "output_type": "stream",
          "name": "stdout",
          "text": [
            "Display key-value pairs\n",
            "\n",
            "Key: NAME\n",
            "Value: Ryan Lumbes\n",
            "\n",
            "Key: ID\n",
            "Value: 2022358\n",
            "\n",
            "Key: COURSE\n",
            "Value: Creative Computing\n",
            "\n",
            "Display only keys:\n",
            "NAME\n",
            "ID\n",
            "COURSE\n",
            "\n",
            "Display only value:\n",
            "Ryan Lumbes\n",
            "2022358\n",
            "Creative Computing\n",
            "{'NAME': 'Ryan Lumbes', 'ID': '2022358', 'COURSE': 'Creative Computing', 'GENDER': 'Male'}\n"
          ]
        }
      ]
    },
    {
      "cell_type": "code",
      "source": [
        "student1={'name': 'ryan','id':'5','course':'BSC CC'}\n",
        "student2={'name':'christian','id':'10','course':'BSC CC'}\n",
        "student3={'name':'caballero','id':'15','course':'BA'}\n",
        "student4={'name':'lumbes','id':'20','course':'BA'}\n",
        "student=[student1,student2,student3,student4]\n",
        "for std in student:\n",
        "  print(std)"
      ],
      "metadata": {
        "colab": {
          "base_uri": "https://localhost:8080/"
        },
        "id": "dLRFJb1RHFJA",
        "outputId": "4bdf1124-2ef4-48ee-c612-d2d758c9f0a0"
      },
      "execution_count": null,
      "outputs": [
        {
          "output_type": "stream",
          "name": "stdout",
          "text": [
            "{'name': 'ryan', 'id': '5', 'course': 'BSC CC'}\n",
            "{'name': 'christian', 'id': '10', 'course': 'BSC CC'}\n",
            "{'name': 'caballero', 'id': '15', 'course': 'BA'}\n",
            "{'name': 'lumbes', 'id': '20', 'course': 'BA'}\n"
          ]
        }
      ]
    },
    {
      "cell_type": "code",
      "source": [
        "sandwich_orders=[\"Bacon n' Ham\",'Grilled Cheese','Turkey',\"Sausage n' Egg\"]\n",
        "finished_sandwiches = []\n",
        "\n",
        "while sandwich_orders:\n",
        "  current_sandwich = sandwich_orders.pop()\n",
        "  print(\"I made your \" + current_sandwich + \" sandwich.\")\n",
        "  finished_sandwiches.append(current_sandwich)\n",
        "\n",
        "print(\"\\n\")\n",
        "print('Sandwich Orders:')\n",
        "for sandwich in finished_sandwiches:\n",
        "  print(sandwich, 'Sandwich')"
      ],
      "metadata": {
        "colab": {
          "base_uri": "https://localhost:8080/"
        },
        "id": "1GQjl3U6J1Ji",
        "outputId": "07a6fca0-d79e-41b5-fdcf-353f2cd021d1"
      },
      "execution_count": null,
      "outputs": [
        {
          "output_type": "stream",
          "name": "stdout",
          "text": [
            "I made your Sausage n' Egg sandwich.\n",
            "I made your Turkey sandwich.\n",
            "I made your Grilled Cheese sandwich.\n",
            "I made your Bacon n' Ham sandwich.\n",
            "\n",
            "\n",
            "Sandwich Orders:\n",
            "Sausage n' Egg Sandwich\n",
            "Turkey Sandwich\n",
            "Grilled Cheese Sandwich\n",
            "Bacon n' Ham Sandwich\n"
          ]
        }
      ]
    },
    {
      "cell_type": "code",
      "source": [
        "# chapter 6 exercise 1\n",
        "c_name = \"\\nPlease enter the topping you want to put in a pizza:\"\n",
        "c_name += \"\\n(Enter 'quit' when you are finish putting toppings.) \"\n",
        "\n",
        "while True:\n",
        "   topping = input(c_name)\n",
        "\n",
        "   if topping == 'quit': \n",
        "                  break\n",
        "   else:\n",
        "        print(f\"I'd love to put {topping.title()}\" + \" in my pizza!\")             "
      ],
      "metadata": {
        "colab": {
          "base_uri": "https://localhost:8080/"
        },
        "id": "kWoTr6jIUsrN",
        "outputId": "4c58efca-ca30-4f8d-aa87-7372f9fd07ef"
      },
      "execution_count": null,
      "outputs": [
        {
          "name": "stdout",
          "output_type": "stream",
          "text": [
            "\n",
            "Please enter the topping you want to put in a pizza:\n",
            "(Enter 'quit' when you are finish putting toppings.) cheese\n",
            "I'd love to put Cheese in my pizza!\n",
            "\n",
            "Please enter the topping you want to put in a pizza:\n",
            "(Enter 'quit' when you are finish putting toppings.) pepperoni\n",
            "I'd love to put Pepperoni in my pizza!\n",
            "\n",
            "Please enter the topping you want to put in a pizza:\n",
            "(Enter 'quit' when you are finish putting toppings.) quit\n"
          ]
        }
      ]
    },
    {
      "cell_type": "code",
      "source": [
        "# chapter 5 exercise 4\n",
        "river_country = {'Ebro River':'Spain', 'Seine River':'France','Rhone River':'Switzerland'}\n",
        "print('Display river-country pairs')\n",
        "for river, country in river_country.items():\n",
        " print(river, \" runs through \", country)\n",
        "\n",
        "print(\"\\nDisplay only River:\")\n",
        "for river in river_country.keys():\n",
        "  print(river) \n",
        "\n",
        "print(\"\\nDisplay only Country:\")\n",
        "for country in river_country.values():\n",
        "  print(country)"
      ],
      "metadata": {
        "colab": {
          "base_uri": "https://localhost:8080/"
        },
        "id": "OZxaRwJZWUA5",
        "outputId": "82dcbcd7-5b87-477c-a551-692ab50569d7"
      },
      "execution_count": null,
      "outputs": [
        {
          "output_type": "stream",
          "name": "stdout",
          "text": [
            "Display river-country pairs\n",
            "Ebro River  runs through  Spain\n",
            "Seine River  runs through  France\n",
            "Rhone River  runs through  Switzerland\n",
            "\n",
            "Display only River:\n",
            "Ebro River\n",
            "Seine River\n",
            "Rhone River\n",
            "\n",
            "Display only Country:\n",
            "Spain\n",
            "France\n",
            "Switzerland\n"
          ]
        }
      ]
    },
    {
      "cell_type": "code",
      "source": [
        "# function definition\n",
        "def greet_user():\n",
        " print('Hello')\n",
        "greet_user() "
      ],
      "metadata": {
        "colab": {
          "base_uri": "https://localhost:8080/"
        },
        "id": "CScALDSiatEj",
        "outputId": "3125d5a6-c6d5-4222-d8b7-b92158129682"
      },
      "execution_count": null,
      "outputs": [
        {
          "output_type": "stream",
          "name": "stdout",
          "text": [
            "Hello\n"
          ]
        }
      ]
    },
    {
      "cell_type": "code",
      "source": [
        "# chapter 7 exercise 1\n",
        "def display_message(learnings):\n",
        "  print(f\"Hello everyone, {learnings}\")\n",
        "display_message('in this chapter I learned calling for functions.')"
      ],
      "metadata": {
        "colab": {
          "base_uri": "https://localhost:8080/"
        },
        "id": "r4WH71LwbkBp",
        "outputId": "ac171cad-3966-4c80-d76f-b04b64e5b3c5"
      },
      "execution_count": null,
      "outputs": [
        {
          "output_type": "stream",
          "name": "stdout",
          "text": [
            "Hello everyone, in this chapter I learned calling for functions.\n"
          ]
        }
      ]
    },
    {
      "cell_type": "code",
      "source": [
        "# chapter 7 exercise 2\n",
        "def favorite_book(book1,book2):\n",
        "  print(f\"\\nMy favorite books are {book1.title()} and {book2.title()}! \")\n",
        "favorite_book(book1='Narnia', book2= 'Twilight')"
      ],
      "metadata": {
        "colab": {
          "base_uri": "https://localhost:8080/"
        },
        "id": "SFwPiyRXdJOz",
        "outputId": "7b1f720a-59df-4fed-e7e3-78346446ddfe"
      },
      "execution_count": null,
      "outputs": [
        {
          "output_type": "stream",
          "name": "stdout",
          "text": [
            "\n",
            "My favorite books are Narnia and Twilight! \n"
          ]
        }
      ]
    }
  ]
}