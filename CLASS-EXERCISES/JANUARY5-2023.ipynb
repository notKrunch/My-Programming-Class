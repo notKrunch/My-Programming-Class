{
  "nbformat": 4,
  "nbformat_minor": 0,
  "metadata": {
    "colab": {
      "provenance": [],
      "authorship_tag": "ABX9TyMuYaT2M+xplAStMf6Y3FSi",
      "include_colab_link": true
    },
    "kernelspec": {
      "name": "python3",
      "display_name": "Python 3"
    },
    "language_info": {
      "name": "python"
    }
  },
  "cells": [
    {
      "cell_type": "markdown",
      "metadata": {
        "id": "view-in-github",
        "colab_type": "text"
      },
      "source": [
        "<a href=\"https://colab.research.google.com/github/notKrunch/My-Programming-Class/blob/main/CLASS-EXERCISES/JANUARY5-2023.ipynb\" target=\"_parent\"><img src=\"https://colab.research.google.com/assets/colab-badge.svg\" alt=\"Open In Colab\"/></a>"
      ]
    },
    {
      "cell_type": "code",
      "execution_count": null,
      "metadata": {
        "colab": {
          "base_uri": "https://localhost:8080/"
        },
        "id": "HHjIQNAqeXRj",
        "outputId": "6c90b542-8bba-4f4d-a24d-0954bbdcb987"
      },
      "outputs": [
        {
          "output_type": "stream",
          "name": "stdout",
          "text": [
            "Square of 1 = 1\n",
            "Square of 2 = 4\n",
            "Square of 3 = 9\n",
            "Square of 4 = 16\n",
            "Square of 5 = 25\n",
            "Square of 6 = 36\n",
            "Square of 7 = 49\n",
            "Square of 8 = 64\n",
            "Square of 9 = 81\n",
            "Square of 10 = 100\n"
          ]
        }
      ],
      "source": [
        "# define function\n",
        "def square_root(num):\n",
        "    return num*num\n",
        "\n",
        "for i in range(1, 11):\n",
        "    # function call\n",
        "    result = square_root(i)\n",
        "    print('Square of', i ,'=', result)"
      ]
    },
    {
      "cell_type": "code",
      "source": [
        "# strip(), lstrip(), rstrip()\n",
        "\n",
        "str = 'ooo WELCOME 2023 ooo'\n",
        "\n",
        "# using strip() to delete all 'ooo'\n",
        "print ( \" String after stripping all 'ooo' is : \", end=\"\")\n",
        "print ( str.strip('o') )\n",
        "  \n",
        "# using lstrip() to delete all left 'ooo'\n",
        "print ( \" String after stripping all left 'ooo' is : \", end=\"\")\n",
        "print ( str.lstrip('o') )\n",
        "  \n",
        "# using rstrip() to delete all right 'ooo'\n",
        "print ( \" String after stripping all right 'ooo' is : \", end=\"\")\n",
        "print ( str.rstrip('o') )"
      ],
      "metadata": {
        "colab": {
          "base_uri": "https://localhost:8080/"
        },
        "id": "M-8V-85fgxsv",
        "outputId": "767d8c61-8129-404f-f1db-ca007e8dd20f"
      },
      "execution_count": null,
      "outputs": [
        {
          "output_type": "stream",
          "name": "stdout",
          "text": [
            " String after stripping all 'ooo' is :  WELCOME 2023 \n",
            " String after stripping all left 'ooo' is :  WELCOME 2023 ooo\n",
            " String after stripping all right 'ooo' is : ooo WELCOME 2023 \n"
          ]
        }
      ]
    },
    {
      "cell_type": "code",
      "source": [
        "# Check whether an alphabet is a vowel or a consonant\n",
        "alphabet = input('Enter a letter: ')\n",
        "\n",
        "if alphabet in ('a','e','i','o','u','A','E','I','O','U'):\n",
        "  print('This letter is a vowel.')\n",
        "else:\n",
        "  print('This letter is a consonant.')  "
      ],
      "metadata": {
        "colab": {
          "base_uri": "https://localhost:8080/"
        },
        "id": "vphd0uBMjTA2",
        "outputId": "4bea3180-bb7d-4200-e848-3e64a6ab0d49"
      },
      "execution_count": null,
      "outputs": [
        {
          "output_type": "stream",
          "name": "stdout",
          "text": [
            "Enter an alphabet letter: A\n",
            "This letter is a vowel.\n"
          ]
        }
      ]
    },
    {
      "cell_type": "code",
      "source": [
        "# Comparing two numbers\n",
        "first = float(input('Enter the 1st number: ')) \n",
        "second = float(input('Enter the 2nd number: ')) \n",
        "\n",
        "if first > second :\n",
        "  print(first, ' is bigger than', second)\n",
        "elif second > first :\n",
        "  print(second, ' is bigger than', first)\n",
        "elif first == second:\n",
        "  print('Both numbers are equal.')\n",
        "  "
      ],
      "metadata": {
        "colab": {
          "base_uri": "https://localhost:8080/"
        },
        "id": "5CFkGiMalXQs",
        "outputId": "810f7e1f-7794-4fb4-dd4c-4d2fd73b9366"
      },
      "execution_count": null,
      "outputs": [
        {
          "output_type": "stream",
          "name": "stdout",
          "text": [
            "Enter the 1st number: 14\n",
            "Enter the 2nd number: 12\n",
            "14.0  is bigger than 12.0\n"
          ]
        }
      ]
    },
    {
      "cell_type": "code",
      "source": [
        "# Printing all elements in a list using for loop\n",
        "\n",
        "numbers = [1,2,3,4,5]\n",
        "\n",
        "for x in numbers:\n",
        "  print(x)"
      ],
      "metadata": {
        "colab": {
          "base_uri": "https://localhost:8080/"
        },
        "id": "q_WZi7q4mNhF",
        "outputId": "89bd44ef-a383-4662-e94e-1888b1a273a2"
      },
      "execution_count": null,
      "outputs": [
        {
          "output_type": "stream",
          "name": "stdout",
          "text": [
            "1\n",
            "2\n",
            "3\n",
            "4\n",
            "5\n"
          ]
        }
      ]
    },
    {
      "cell_type": "code",
      "source": [
        "# Dictionary with key-value pair and updating the dictionary\n",
        "name = {'NAME':'Ryan Lumbes', 'ID':'2022358','COURSE':'Creative Computing'}\n",
        "print('Display key-value pairs')\n",
        "for key, value in name.items(): \n",
        "  print(f\"\\nKey: {key}\")\n",
        "  print(f\"Value: {value}\\n\")\n",
        "\n",
        "name['GENDER'] ='Male'\n",
        "print(name)\n"
      ],
      "metadata": {
        "colab": {
          "base_uri": "https://localhost:8080/"
        },
        "id": "-IoYsb3QoIFb",
        "outputId": "425a49fc-5f06-425d-d4fb-0a9a8919f97b"
      },
      "execution_count": null,
      "outputs": [
        {
          "output_type": "stream",
          "name": "stdout",
          "text": [
            "Display key-value pairs\n",
            "\n",
            "Key: NAME\n",
            "Value: Ryan Lumbes\n",
            "\n",
            "\n",
            "Key: ID\n",
            "Value: 2022358\n",
            "\n",
            "\n",
            "Key: COURSE\n",
            "Value: Creative Computing\n",
            "\n",
            "{'NAME': 'Ryan Lumbes', 'ID': '2022358', 'COURSE': 'Creative Computing', 'GENDER': 'Male'}\n"
          ]
        }
      ]
    },
    {
      "cell_type": "code",
      "source": [
        "# Declaring 2 tuples compromising of leap and non-leap years\n",
        "leap_year=(2004, 2008 ,2016, 2020)\n",
        "non_leap_year=(2003, 2005, 2006, 2007)\n",
        "\n",
        "print('\\nThe list of 4 leap years:') \n",
        "print(leap_year[0:5])\n",
        "print('\\nThe list of 4 non-leap years:') \n",
        "print(non_leap_year[0:5])\n",
        "\n",
        "# Concatenating 2 tuples\n",
        "\n",
        "print('\\nThe list of 4 leap and non-leap years:')\n",
        "print(leap_year + non_leap_year)\n",
        "\n",
        "# Repeating the number of times using *\n",
        "print('\\nRepeating the lists 3 times:')\n",
        "print(leap_year*3)\n",
        "print(non_leap_year*3)\n",
        "\n",
        "# Length of each tuple\n",
        "print('\\nLength of each tuple:')\n",
        "print(len(leap_year))\n",
        "print(len(non_leap_year))\n",
        "\n",
        "# Sum of elements in tuples\n",
        "print('\\nSum of elements in tuples:')\n",
        "print(sum(leap_year))\n",
        "print(sum(non_leap_year))\n",
        "\n",
        "# Sort elements in tuples\n",
        "print('\\nSort elements in tuples:')\n",
        "print(sorted(leap_year))\n",
        "print(sorted(non_leap_year))\n",
        "\n",
        "# Swap 2 tuples\n",
        "print('\\nSwap 2 tuples:')\n",
        "leap_year,non_leap_year=non_leap_year,leap_year\n",
        "print('4 non-leap years:', leap_year)\n",
        "print('4 leap years:', non_leap_year)"
      ],
      "metadata": {
        "id": "xxSL56L6qh2N"
      },
      "execution_count": null,
      "outputs": []
    },
    {
      "cell_type": "code",
      "source": [
        "# Write a program to print the following number pattern\n",
        "n=int(input('Enter the number of rows:'))\n",
        "i=1\n",
        "while i<=n:\n",
        "  j=1\n",
        "  while j<=i:\n",
        "    print((i*2-1), end=' ')\n",
        "    j=j+1\n",
        "  i=i+1\n",
        "  print()\n"
      ],
      "metadata": {
        "colab": {
          "base_uri": "https://localhost:8080/"
        },
        "id": "fdbl6hywqliv",
        "outputId": "c60b3eac-2156-4dc1-c6f5-093479dc3bfb"
      },
      "execution_count": null,
      "outputs": [
        {
          "output_type": "stream",
          "name": "stdout",
          "text": [
            "Enter the number of rows:5\n",
            "1 \n",
            "3 3 \n",
            "5 5 5 \n",
            "7 7 7 7 \n",
            "9 9 9 9 9 \n"
          ]
        }
      ]
    },
    {
      "cell_type": "code",
      "source": [
        "# Count the number of occurrence of a character in a string\n",
        "\n",
        "counter = 0\n",
        "\n",
        "my_string= 'classroom'\n",
        "my_char= 's'\n",
        "\n",
        "for i in my_string:\n",
        "  if i == my_char:\n",
        "    counter += 1\n",
        "print(counter)"
      ],
      "metadata": {
        "colab": {
          "base_uri": "https://localhost:8080/"
        },
        "id": "RaL8uK4asBjD",
        "outputId": "0b7d28f5-b382-46d3-9f84-bfa01b8e4a35"
      },
      "execution_count": null,
      "outputs": [
        {
          "output_type": "stream",
          "name": "stdout",
          "text": [
            "2\n"
          ]
        }
      ]
    },
    {
      "cell_type": "code",
      "source": [
        "# creating zero, one, two, multi dimensional array importing NumPy\n",
        "import numpy as np\n",
        "\n",
        "list=np.array(69) # create 0 dimensional array\n",
        "print('Zero dimensional array: ', list)\n",
        "\n",
        "list1=np.array([65,66,67,68,69]) # create one dimensional array\n",
        "print('One dimensional array: ', list1)\n",
        "\n",
        "list2=np.array([[65,66,67,68,69], [1,2,3,4,5]]) # create two dimensional array\n",
        "print('Two dimensional array: \\n ', list2)\n",
        "\n",
        "list3=np.array([[[0,0,0,0],[1,1,1,1]],[[2,2,2,2],[3,3,3,3]]]) # create multi dimensional array\n",
        "print('Multi dimensional array: \\n ', list3)"
      ],
      "metadata": {
        "id": "nYDlhLUEsj-P"
      },
      "execution_count": null,
      "outputs": []
    },
    {
      "cell_type": "code",
      "source": [
        "# draw square in Python Turtle with different color sides\n",
        "!pip3 install ColabTurtle\n",
        "from ColabTurtle.Turtle import *\n",
        "import ColabTurtle.Turtle as t\n",
        "initializeTurtle()\n",
        "\n",
        "# Write a program to draw a square using Python Turtle with different color \n",
        "t.color('Blue')\n",
        "t.forward(100) \n",
        "t.right(90)\n",
        "t.color('Yellow')\n",
        "t.forward(100)\n",
        "t.right(90)\n",
        "t.color('Red')\n",
        "t.forward(100)\n",
        "t.right(90)\n",
        "t.color('Green')\n",
        "t.forward(100)\n",
        "t.right(90)"
      ],
      "metadata": {
        "colab": {
          "base_uri": "https://localhost:8080/",
          "height": 722
        },
        "id": "CQvhcE-HsvnQ",
        "outputId": "43b901cb-46c3-4742-9601-d94a705b7972"
      },
      "execution_count": null,
      "outputs": [
        {
          "output_type": "stream",
          "name": "stdout",
          "text": [
            "Looking in indexes: https://pypi.org/simple, https://us-python.pkg.dev/colab-wheels/public/simple/\n",
            "Collecting ColabTurtle\n",
            "  Downloading ColabTurtle-2.1.0.tar.gz (6.8 kB)\n",
            "  Preparing metadata (setup.py) ... \u001b[?25l\u001b[?25hdone\n",
            "Building wheels for collected packages: ColabTurtle\n",
            "  Building wheel for ColabTurtle (setup.py) ... \u001b[?25l\u001b[?25hdone\n",
            "  Created wheel for ColabTurtle: filename=ColabTurtle-2.1.0-py3-none-any.whl size=7656 sha256=582425b6c589a18e1df9b444ec910a74cc9e3959480d4e49c200adb5f456c4d0\n",
            "  Stored in directory: /root/.cache/pip/wheels/a9/85/dc/29b6b43c4c6c0fe37192ccad65fe2adcef1e52dd24b0eb61fc\n",
            "Successfully built ColabTurtle\n",
            "Installing collected packages: ColabTurtle\n",
            "Successfully installed ColabTurtle-2.1.0\n"
          ]
        },
        {
          "output_type": "display_data",
          "data": {
            "text/plain": [
              "<IPython.core.display.HTML object>"
            ],
            "text/html": [
              "\n",
              "      <svg width=\"800\" height=\"500\">\n",
              "        <rect width=\"100%\" height=\"100%\" fill=\"black\"/>\n",
              "        <line x1=\"400\" y1=\"250\" x2=\"400.0\" y2=\"150.0\" stroke-linecap=\"round\" style=\"stroke:blue;stroke-width:4\"/><line x1=\"400.0\" y1=\"150.0\" x2=\"500.0\" y2=\"150.0\" stroke-linecap=\"round\" style=\"stroke:yellow;stroke-width:4\"/><line x1=\"500.0\" y1=\"150.0\" x2=\"500.0\" y2=\"250.0\" stroke-linecap=\"round\" style=\"stroke:red;stroke-width:4\"/><line x1=\"500.0\" y1=\"250.0\" x2=\"400.0\" y2=\"250.0\" stroke-linecap=\"round\" style=\"stroke:green;stroke-width:4\"/>\n",
              "        <g visibility=visible transform=\"rotate(360,400.0,250.0) translate(382.0, 232.0)\">\n",
              "<path style=\" stroke:none;fill-rule:evenodd;fill:green;fill-opacity:1;\" d=\"M 18.214844 0.632812 C 16.109375 1.800781 15.011719 4.074219 15.074219 7.132812 L 15.085938 7.652344 L 14.785156 7.496094 C 13.476562 6.824219 11.957031 6.671875 10.40625 7.066406 C 8.46875 7.550781 6.515625 9.15625 4.394531 11.992188 C 3.0625 13.777344 2.679688 14.636719 3.042969 15.027344 L 3.15625 15.152344 L 3.519531 15.152344 C 4.238281 15.152344 4.828125 14.886719 8.1875 13.039062 C 9.386719 12.378906 10.371094 11.839844 10.378906 11.839844 C 10.386719 11.839844 10.355469 11.929688 10.304688 12.035156 C 9.832031 13.09375 9.257812 14.820312 8.96875 16.078125 C 7.914062 20.652344 8.617188 24.53125 11.070312 27.660156 C 11.351562 28.015625 11.363281 27.914062 10.972656 28.382812 C 8.925781 30.84375 7.945312 33.28125 8.238281 35.1875 C 8.289062 35.527344 8.28125 35.523438 8.917969 35.523438 C 10.941406 35.523438 13.074219 34.207031 15.136719 31.6875 C 15.359375 31.417969 15.328125 31.425781 15.5625 31.574219 C 16.292969 32.042969 18.023438 32.964844 18.175781 32.964844 C 18.335938 32.964844 19.941406 32.210938 20.828125 31.71875 C 20.996094 31.625 21.136719 31.554688 21.136719 31.558594 C 21.203125 31.664062 21.898438 32.414062 22.222656 32.730469 C 23.835938 34.300781 25.5625 35.132812 27.582031 35.300781 C 27.90625 35.328125 27.9375 35.308594 28.007812 34.984375 C 28.382812 33.242188 27.625 30.925781 25.863281 28.425781 L 25.542969 27.96875 L 25.699219 27.785156 C 28.945312 23.960938 29.132812 18.699219 26.257812 11.96875 L 26.207031 11.84375 L 27.945312 12.703125 C 31.53125 14.476562 32.316406 14.800781 33.03125 14.800781 C 33.976562 14.800781 33.78125 13.9375 32.472656 12.292969 C 28.519531 7.355469 25.394531 5.925781 21.921875 7.472656 L 21.558594 7.636719 L 21.578125 7.542969 C 21.699219 6.992188 21.761719 5.742188 21.699219 5.164062 C 21.496094 3.296875 20.664062 1.964844 19.003906 0.855469 C 18.480469 0.503906 18.457031 0.5 18.214844 0.632812\"/>\n",
              "</g>\n",
              "      </svg>\n",
              "    "
            ]
          },
          "metadata": {}
        }
      ]
    },
    {
      "cell_type": "code",
      "source": [
        "# Sort Array in Descending Order\n",
        "import numpy as np\n",
        "\n",
        "\n",
        "list = np.array([5, 7, 9, 11, 13])\n",
        "\n",
        "\n",
        "for i in range(0, len(list)):\n",
        "  for j in range(i + 1, len(list)):\n",
        "   if (list[i]) < (list[j]):\n",
        "       temp = list[i];    \n",
        "       list[i] = list[j];    \n",
        "       list[j] = temp;    \n",
        "     \n",
        "print(list)"
      ],
      "metadata": {
        "id": "QG2ZddhJs_zB",
        "colab": {
          "base_uri": "https://localhost:8080/"
        },
        "outputId": "6e2813ad-615b-4cb2-8251-875bb6cdfd25"
      },
      "execution_count": null,
      "outputs": [
        {
          "output_type": "stream",
          "name": "stdout",
          "text": [
            "[13 11  9  7  5]\n"
          ]
        }
      ]
    }
  ]
}