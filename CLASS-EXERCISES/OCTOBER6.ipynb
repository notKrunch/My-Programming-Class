{
  "nbformat": 4,
  "nbformat_minor": 0,
  "metadata": {
    "colab": {
      "provenance": [],
      "collapsed_sections": [],
      "authorship_tag": "ABX9TyMqfC3YjxH3NV5Fw64W2BQg",
      "include_colab_link": true
    },
    "kernelspec": {
      "name": "python3",
      "display_name": "Python 3"
    },
    "language_info": {
      "name": "python"
    }
  },
  "cells": [
    {
      "cell_type": "markdown",
      "metadata": {
        "id": "view-in-github",
        "colab_type": "text"
      },
      "source": [
        "<a href=\"https://colab.research.google.com/github/notKrunch/My-Programming-Class/blob/main/CLASS-EXERCISES/OCTOBER6.ipynb\" target=\"_parent\"><img src=\"https://colab.research.google.com/assets/colab-badge.svg\" alt=\"Open In Colab\"/></a>"
      ]
    },
    {
      "cell_type": "code",
      "execution_count": null,
      "metadata": {
        "colab": {
          "base_uri": "https://localhost:8080/"
        },
        "id": "lEGv4JEhzJnd",
        "outputId": "a09ef986-9d11-4bed-ff7d-7285f823bbff"
      },
      "outputs": [
        {
          "output_type": "stream",
          "name": "stdout",
          "text": [
            "My name is Ryan Christian Lumbes My name is Ryan Christian Lumbes My name is Ryan Christian Lumbes My name is Ryan Christian Lumbes My name is Ryan Christian Lumbes My name is Ryan Christian Lumbes My name is Ryan Christian Lumbes My name is Ryan Christian Lumbes My name is Ryan Christian Lumbes My name is Ryan Christian Lumbes My name is Ryan Christian Lumbes My name is Ryan Christian Lumbes\n"
          ]
        }
      ],
      "source": [
        "sentence= 'My name is Ryan Christian Lumbes'\n",
        "sentence1='My name is Ryan Christian Lumbes'\n",
        "sentence_1='My name is Ryan Christian Lumbes'\n",
        "Sentence1='My name is Ryan Christian Lumbes'\n",
        "Sentence_1='My name is Ryan Christian Lumbes'\n",
        "SENTENCE1='My name is Ryan Christian Lumbes'\n",
        "SEnTEnCE1='My name is Ryan Christian Lumbes'\n",
        "SENTENCE_1='My name is Ryan Christian Lumbes'\n",
        "SEnTEnCE_1='My name is Ryan Christian Lumbes'\n",
        "_sentence='My name is Ryan Christian Lumbes'\n",
        "my_name='My name is Ryan Christian Lumbes'\n",
        "My_Name='My name is Ryan Christian Lumbes'\n",
        "\n",
        "print(sentence, sentence1, sentence_1, Sentence1, Sentence_1, SENTENCE1, SEnTEnCE1, SENTENCE_1, SEnTEnCE_1, _sentence, my_name, My_Name)"
      ]
    },
    {
      "cell_type": "code",
      "source": [
        "1sentence= 'My name is Ryan Christian Lumbes'\n",
        "-sentence='My name is Ryan Christian Lumbes'\n",
        "*sentence='My name is Ryan Christian Lumbes'\n",
        "Sentence-1='My name is Ryan Christian Lumbes'\n",
        "Sentence*1='My name is Ryan Christian Lumbes'\n",
        "my's_name='My name is Ryan Christian Lumbes'\n",
        "\n",
        "print(1sentence)\n",
        "print(-sentence)\n",
        "print(*sentence)\n",
        "print(Sentence-1)\n",
        "print(Sentence*1)\n",
        "print(my's_name)"
      ],
      "metadata": {
        "colab": {
          "base_uri": "https://localhost:8080/",
          "height": 130
        },
        "id": "ddWbosAp1wdz",
        "outputId": "af827be2-cc07-4af1-8346-4635c6593689"
      },
      "execution_count": null,
      "outputs": [
        {
          "output_type": "error",
          "ename": "SyntaxError",
          "evalue": "ignored",
          "traceback": [
            "\u001b[0;36m  File \u001b[0;32m\"<ipython-input-9-d8e3250a9534>\"\u001b[0;36m, line \u001b[0;32m1\u001b[0m\n\u001b[0;31m    1sentence= 'My name is Ryan Christian Lumbes'\u001b[0m\n\u001b[0m            ^\u001b[0m\n\u001b[0;31mSyntaxError\u001b[0m\u001b[0;31m:\u001b[0m invalid syntax\n"
          ]
        }
      ]
    },
    {
      "cell_type": "code",
      "source": [
        "x= 25 #int value\n",
        "FLOAT= 2.56 #floating point value\n",
        "COMPLEX = 31+6j #complex value\n",
        "\n",
        "#type()prints the datatype of the variable\n",
        "\n",
        "print(INT)\n",
        "print(FLOAT)\n",
        "print(COMPLEX)\n",
        "print(\"Type of INT is:\", type(INT))\n",
        "print(\"Type of FLOAT is:\", type(FLOAT))\n",
        "print(\"Type of COMPLEX is:\", type(COMPLEX))"
      ],
      "metadata": {
        "colab": {
          "base_uri": "https://localhost:8080/"
        },
        "id": "eROYhACn20nr",
        "outputId": "ccdef395-0f97-4bc5-b0a0-c43490befe00"
      },
      "execution_count": null,
      "outputs": [
        {
          "output_type": "stream",
          "name": "stdout",
          "text": [
            "25\n",
            "2.56\n",
            "(31+6j)\n",
            "Type of INT is: <class 'int'>\n",
            "Type of FLOAT is: <class 'float'>\n",
            "Type of COMPLEX is: <class 'complex'>\n"
          ]
        }
      ]
    },
    {
      "cell_type": "code",
      "source": [
        "print(\"enter marks\")\n",
        "marks= int(input())\n",
        "print(\"Marks obtained is\", marks)"
      ],
      "metadata": {
        "colab": {
          "base_uri": "https://localhost:8080/"
        },
        "id": "u0OzdWZj6iN7",
        "outputId": "4048d221-a394-47d8-b35d-6e920755c40e"
      },
      "execution_count": null,
      "outputs": [
        {
          "output_type": "stream",
          "name": "stdout",
          "text": [
            "enter marks\n",
            "69\n",
            "Marks obtained is 69\n"
          ]
        }
      ]
    },
    {
      "cell_type": "code",
      "source": [
        "side = float(input(\"Enter the side of a square:\"))\n",
        "\n",
        "area = side**2\n",
        "\n",
        "print(\"The area of a square is:\", area)"
      ],
      "metadata": {
        "colab": {
          "base_uri": "https://localhost:8080/"
        },
        "id": "8dSq92qF7g-R",
        "outputId": "bdfe690c-a26d-445c-f710-8a50c668ac9b"
      },
      "execution_count": null,
      "outputs": [
        {
          "output_type": "stream",
          "name": "stdout",
          "text": [
            "Enter the side of a square:6\n",
            "The area of a square is: 36.0\n"
          ]
        }
      ]
    },
    {
      "cell_type": "code",
      "source": [
        "#use input() function to work with user defined variables\n",
        "print('Please enter the side of a square')\n",
        "side= float(input())\n",
        "print('Side of the square=', side)\n",
        "print('The area of a square with side: ' + str(side) +' units= ' + str(side**2)+ ' sq units')\n"
      ],
      "metadata": {
        "colab": {
          "base_uri": "https://localhost:8080/"
        },
        "id": "9TmeWfCD9Crr",
        "outputId": "ddfd555d-9d3e-4bc1-e722-d7bbeb223c63"
      },
      "execution_count": null,
      "outputs": [
        {
          "output_type": "stream",
          "name": "stdout",
          "text": [
            "Please enter the side of a square\n",
            "5\n",
            "Side of the square= 5.0\n",
            "The area of a square with side: 5.0 units= 25.0 sq units\n"
          ]
        }
      ]
    },
    {
      "cell_type": "code",
      "source": [
        "pi = 3.14\n",
        "r = float(input(\"Input the radius of the circle:\"))\n",
        "print('The area of the circle with radius: ' + str(r) + \" is: \" + str(pi * r**2))"
      ],
      "metadata": {
        "colab": {
          "base_uri": "https://localhost:8080/"
        },
        "id": "NhOE__mi9yDm",
        "outputId": "f9ad074e-9cb7-43ba-8fda-1ff970bb9cb4"
      },
      "execution_count": null,
      "outputs": [
        {
          "output_type": "stream",
          "name": "stdout",
          "text": [
            "Input the radius of the circle:5\n",
            "The area of the circle with radius: 5.0 is: 78.5\n"
          ]
        }
      ]
    },
    {
      "cell_type": "code",
      "source": [
        "str = 'Hello World'\n",
        "\n",
        "print (str)          # Prints complete string\n",
        "print (str[0])       # Prints first character of the string\n",
        "print (str[2:5])     # Prints characters starting from 3rd to 5th\n",
        "print (str[2: ])     # Prints string starting from 3rd character\n",
        "print (str*2)        # Prints string two times\n",
        "print (str + \" TEST\") # Prints concatenated string"
      ],
      "metadata": {
        "colab": {
          "base_uri": "https://localhost:8080/"
        },
        "id": "yx2mp50-AKuu",
        "outputId": "63185db2-a17f-44c4-a35a-971f4e6d5929"
      },
      "execution_count": null,
      "outputs": [
        {
          "output_type": "stream",
          "name": "stdout",
          "text": [
            "Hello World\n",
            "H\n",
            "llo\n",
            "llo World\n",
            "Hello WorldHello World\n",
            "Hello World TEST\n"
          ]
        }
      ]
    },
    {
      "cell_type": "code",
      "source": [
        "# working with strings\n",
        "sentence1='Today is 6th October, 2022, Thursday '\n",
        "print(sentence1)\n",
        "print(sentence1[0])\n",
        "print(sentence1[0:5])\n",
        "print(sentence1[4: ])\n",
        "print(sentence1*2)\n",
        "\n",
        "sentence2= \"Today is our fifth session on 'Introduction on Programming'.\"\n",
        "print(sentence2)\n",
        "\n",
        "sentence3= 'Today we are learning about different types of variables in python programming'\n",
        "print(sentence3)\n",
        "\n",
        "# Strings Concatination\n",
        "# Write three strings in different variables and print the output as one string.\n",
        "\n",
        "print(sentence1+sentence2+sentence3)\n"
      ],
      "metadata": {
        "colab": {
          "base_uri": "https://localhost:8080/"
        },
        "id": "7qANs7yvJUb6",
        "outputId": "cb8d30d7-f855-4eb2-8c7a-416516c37105"
      },
      "execution_count": null,
      "outputs": [
        {
          "output_type": "stream",
          "name": "stdout",
          "text": [
            "Today is 6th October, 2022, Thursday \n",
            "T\n",
            "Today\n",
            "y is 6th October, 2022, Thursday \n",
            "Today is 6th October, 2022, Thursday Today is 6th October, 2022, Thursday \n",
            "Today is our fifth session on 'Introduction on Programming'.\n",
            "Today we are learning about different types of variables in python programming\n",
            "Today is 6th October, 2022, Thursday Today is our fifth session on 'Introduction on Programming'.Today we are learning about different types of variables in python programming\n"
          ]
        }
      ]
    },
    {
      "cell_type": "code",
      "source": [
        "#changing case in Python\n",
        "\n",
        "date='Today is 6th October, 2022, Thursday'\n",
        "print(date.lower())\n",
        "print(date.upper())\n",
        "print(date.title())\n",
        "rhyme='twinkle twinkle little star, how I wonder, what you are!'\n",
        "print(rhyme.capitalize())\n",
        "print(date.swapcase())"
      ],
      "metadata": {
        "colab": {
          "base_uri": "https://localhost:8080/"
        },
        "id": "EB7MMQb3LZaS",
        "outputId": "f16b6ecb-0ace-40fa-adaf-26298caf6e8d"
      },
      "execution_count": null,
      "outputs": [
        {
          "output_type": "stream",
          "name": "stdout",
          "text": [
            "today is 6th october, 2022, thursday\n",
            "TODAY IS 6TH OCTOBER, 2022, THURSDAY\n",
            "Today Is 6Th October, 2022, Thursday\n",
            "Twinkle twinkle little star, how i wonder, what you are!\n",
            "tODAY IS 6TH oCTOBER, 2022, tHURSDAY\n"
          ]
        }
      ]
    },
    {
      "cell_type": "code",
      "source": [
        "# use of lstrip() function to remove spaces from left side of the string \n",
        "\n",
        "word='   krunch'\n",
        "new_word=word.lstrip()\n",
        "print(word)\n",
        "print(new_word)"
      ],
      "metadata": {
        "colab": {
          "base_uri": "https://localhost:8080/"
        },
        "id": "l3blsPdRMYam",
        "outputId": "512eb1db-e46e-4f77-c059-7fa4622c079e"
      },
      "execution_count": null,
      "outputs": [
        {
          "output_type": "stream",
          "name": "stdout",
          "text": [
            "   krunch\n",
            "krunch\n"
          ]
        }
      ]
    },
    {
      "cell_type": "code",
      "source": [
        "# To add a tab to your text, use the character combination \\t\n",
        "\n",
        "print(\"The programming language is: \\t Python\")\n",
        "\n",
        "# To add a newline in a string, use the character combination \\n\n",
        "\n",
        "print(\"\\n\")\n",
        "print(\"Programming Languages:\\nPython\\nC\\nJavaScript\")\n",
        "\n",
        "print(\"\\n\")\n",
        "\n",
        "# Formatting using \\t and \\n\n",
        "\n",
        "print(\"Programming Language:\\n\\tPython\\n\\tC\\n\\tJavaScript\")"
      ],
      "metadata": {
        "colab": {
          "base_uri": "https://localhost:8080/"
        },
        "id": "zai9gI-2NzfV",
        "outputId": "e8452c8f-bf26-45eb-b582-89f3dc9e96ca"
      },
      "execution_count": null,
      "outputs": [
        {
          "output_type": "stream",
          "name": "stdout",
          "text": [
            "The programming language is: \t Python\n",
            "\n",
            "\n",
            "Programming Languages:\n",
            "Python\n",
            "C\n",
            "JavaScript\n",
            "\n",
            "\n",
            "Programming Language:\n",
            "\tPython\n",
            "\tC\n",
            "\tJavaScript\n"
          ]
        }
      ]
    },
    {
      "cell_type": "code",
      "source": [],
      "metadata": {
        "id": "8SVQ_4QsPHKB"
      },
      "execution_count": null,
      "outputs": []
    }
  ]
}