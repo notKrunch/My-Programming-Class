{
  "nbformat": 4,
  "nbformat_minor": 0,
  "metadata": {
    "colab": {
      "provenance": [],
      "authorship_tag": "ABX9TyNhzxx2tl9UzXe93aQiMX5h",
      "include_colab_link": true
    },
    "kernelspec": {
      "name": "python3",
      "display_name": "Python 3"
    },
    "language_info": {
      "name": "python"
    }
  },
  "cells": [
    {
      "cell_type": "markdown",
      "metadata": {
        "id": "view-in-github",
        "colab_type": "text"
      },
      "source": [
        "<a href=\"https://colab.research.google.com/github/notKrunch/My-Programming-Class/blob/main/CHAPTER1/EXERCISE-4.ipynb\" target=\"_parent\"><img src=\"https://colab.research.google.com/assets/colab-badge.svg\" alt=\"Open In Colab\"/></a>"
      ]
    },
    {
      "cell_type": "code",
      "execution_count": null,
      "metadata": {
        "id": "CVlY5PE7OqlY",
        "outputId": "7e611620-4e56-4f0d-80bc-8cabc570fd81",
        "colab": {
          "base_uri": "https://localhost:8080/"
        }
      },
      "outputs": [
        {
          "output_type": "stream",
          "name": "stdout",
          "text": [
            "apple banana cantaloupe\n"
          ]
        }
      ],
      "source": [
        "a, b, c= \"apple\", \"banana\", \"cantaloupe\"\n",
        "print(a, b, c)\n"
      ]
    }
  ]
}