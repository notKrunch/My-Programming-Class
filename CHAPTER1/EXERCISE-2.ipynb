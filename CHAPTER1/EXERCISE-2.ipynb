{
  "nbformat": 4,
  "nbformat_minor": 0,
  "metadata": {
    "colab": {
      "provenance": [],
      "authorship_tag": "ABX9TyP+LgbbTDL3ZHBUXHdud9hD",
      "include_colab_link": true
    },
    "kernelspec": {
      "name": "python3",
      "display_name": "Python 3"
    },
    "language_info": {
      "name": "python"
    }
  },
  "cells": [
    {
      "cell_type": "markdown",
      "metadata": {
        "id": "view-in-github",
        "colab_type": "text"
      },
      "source": [
        "<a href=\"https://colab.research.google.com/github/notKrunch/My-Programming-Class/blob/main/CHAPTER1/EXERCISE-2.ipynb\" target=\"_parent\"><img src=\"https://colab.research.google.com/assets/colab-badge.svg\" alt=\"Open In Colab\"/></a>"
      ]
    },
    {
      "cell_type": "code",
      "execution_count": null,
      "metadata": {
        "id": "uZ9HSyaeRU2c",
        "outputId": "04a0cb2e-370a-4965-8e1d-9bcad57c9970",
        "colab": {
          "base_uri": "https://localhost:8080/"
        }
      },
      "outputs": [
        {
          "output_type": "stream",
          "name": "stdout",
          "text": [
            "Python version\n",
            "3.7.14 (default, Sep  8 2022, 00:06:44) \n",
            "[GCC 7.5.0]\n",
            "Version info.\n",
            "sys.version_info(major=3, minor=7, micro=14, releaselevel='final', serial=0)\n"
          ]
        }
      ],
      "source": [
        "# Writing a program to print the version of Python\n",
        "import sys\n",
        "print(\"Python version\")\n",
        "print(sys.version)\n",
        "\n",
        "print(\"Version info.\")\n",
        "print(sys.version_info)"
      ]
    }
  ]
}