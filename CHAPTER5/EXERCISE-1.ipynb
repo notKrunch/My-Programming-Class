{
  "nbformat": 4,
  "nbformat_minor": 0,
  "metadata": {
    "colab": {
      "provenance": [],
      "collapsed_sections": [],
      "authorship_tag": "ABX9TyP92aO99j1mj3fHVcRF0gkN",
      "include_colab_link": true
    },
    "kernelspec": {
      "name": "python3",
      "display_name": "Python 3"
    },
    "language_info": {
      "name": "python"
    }
  },
  "cells": [
    {
      "cell_type": "markdown",
      "metadata": {
        "id": "view-in-github",
        "colab_type": "text"
      },
      "source": [
        "<a href=\"https://colab.research.google.com/github/notKrunch/My-Programming-Class/blob/main/CHAPTER5/EXERCISE-1.ipynb\" target=\"_parent\"><img src=\"https://colab.research.google.com/assets/colab-badge.svg\" alt=\"Open In Colab\"/></a>"
      ]
    },
    {
      "cell_type": "code",
      "execution_count": null,
      "metadata": {
        "id": "4J4T1oRzH2BI"
      },
      "outputs": [],
      "source": [
        "# exercise 1\n",
        "me= {'first_name':'Ryan','last_name':'Lumbes','age':'18','city':'Dubai'}\n",
        "print(me)\n",
        "print(me['first_name'])\n",
        "print(me['last_name'])\n",
        "print(me['age'])\n",
        "print(me['city'])"
      ]
    }
  ]
}