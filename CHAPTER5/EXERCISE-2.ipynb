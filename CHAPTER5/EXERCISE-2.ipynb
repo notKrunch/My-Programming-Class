{
  "nbformat": 4,
  "nbformat_minor": 0,
  "metadata": {
    "colab": {
      "provenance": [],
      "collapsed_sections": [],
      "authorship_tag": "ABX9TyN2awl//vEGEASSjP2LoP8Q",
      "include_colab_link": true
    },
    "kernelspec": {
      "name": "python3",
      "display_name": "Python 3"
    },
    "language_info": {
      "name": "python"
    }
  },
  "cells": [
    {
      "cell_type": "markdown",
      "metadata": {
        "id": "view-in-github",
        "colab_type": "text"
      },
      "source": [
        "<a href=\"https://colab.research.google.com/github/notKrunch/My-Programming-Class/blob/main/CHAPTER5/EXERCISE-2.ipynb\" target=\"_parent\"><img src=\"https://colab.research.google.com/assets/colab-badge.svg\" alt=\"Open In Colab\"/></a>"
      ]
    },
    {
      "cell_type": "code",
      "execution_count": 1,
      "metadata": {
        "colab": {
          "base_uri": "https://localhost:8080/"
        },
        "id": "kE96QSlXIdbo",
        "outputId": "a4086661-3434-46b8-d0de-fad331520bcb"
      },
      "outputs": [
        {
          "output_type": "stream",
          "name": "stdout",
          "text": [
            "Ordinal Value:\n",
            "equivalent number of a character in Python.\n",
            "\n",
            "List:\n",
            "used to store multiple variables of the same type.\n",
            "\n",
            "Sort Function:\n",
            "used to sort list in alphabetical order.\n",
            "\n",
            "Strings:\n",
            "can be used to handle textual data in Python.\n",
            "\n",
            "Pop Function:\n",
            "used to remove an item at the specified index from the list.\n",
            "\n"
          ]
        }
      ],
      "source": [
        "# exercise 2\n",
        "cc = {'Ordinal Value': 'equivalent number of a character in Python.', 'List':'used to store multiple variables of the same type.'\n",
        ",'Sort Function':'used to sort list in alphabetical order.','Strings':'can be used to handle textual data in Python.',\n",
        "'Pop Function':'used to remove an item at the specified index from the list.'}\n",
        "\n",
        "print('Ordinal Value:')\n",
        "print(cc['Ordinal Value']+ '\\n')\n",
        "print('List:')\n",
        "print(cc['List']+ '\\n')\n",
        "print('Sort Function:')\n",
        "print(cc['Sort Function']+ '\\n')\n",
        "print('Strings:')\n",
        "print(cc['Strings']+ '\\n')\n",
        "print('Pop Function:')\n",
        "print(cc['Pop Function']+ '\\n')"
      ]
    }
  ]
}