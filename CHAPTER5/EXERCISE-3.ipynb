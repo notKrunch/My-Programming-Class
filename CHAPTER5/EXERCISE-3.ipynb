{
  "nbformat": 4,
  "nbformat_minor": 0,
  "metadata": {
    "colab": {
      "provenance": [],
      "collapsed_sections": [],
      "authorship_tag": "ABX9TyOYRteh11T43bq0UXT4Os7g",
      "include_colab_link": true
    },
    "kernelspec": {
      "name": "python3",
      "display_name": "Python 3"
    },
    "language_info": {
      "name": "python"
    }
  },
  "cells": [
    {
      "cell_type": "markdown",
      "metadata": {
        "id": "view-in-github",
        "colab_type": "text"
      },
      "source": [
        "<a href=\"https://colab.research.google.com/github/notKrunch/My-Programming-Class/blob/main/CHAPTER5/EXERCISE-3.ipynb\" target=\"_parent\"><img src=\"https://colab.research.google.com/assets/colab-badge.svg\" alt=\"Open In Colab\"/></a>"
      ]
    },
    {
      "cell_type": "code",
      "execution_count": 2,
      "metadata": {
        "colab": {
          "base_uri": "https://localhost:8080/"
        },
        "id": "5vkmjEP5J7OM",
        "outputId": "65671dad-4a69-400e-eb43-a3ae090faef2"
      },
      "outputs": [
        {
          "output_type": "stream",
          "name": "stdout",
          "text": [
            "\n",
            "Word: Ordinal Value\n",
            "\n",
            "Definition: equivalent number of a character in Python.\n",
            "\n",
            "Word: List\n",
            "\n",
            "Definition: used to store multiple variables of the same type.\n",
            "\n",
            "Word: Sort Function\n",
            "\n",
            "Definition: used to sort list in alphabetical order.\n",
            "\n",
            "Word: Strings\n",
            "\n",
            "Definition: can be used to handle textual data in Python.\n",
            "\n",
            "Word: Pop Function\n",
            "\n",
            "Definition: used to remove an item at the specified index from the list.\n",
            "\n",
            "Word: Syntax\n",
            "\n",
            "Definition: grammatical rules of a programming language.\n",
            "\n",
            "Word: Value\n",
            "\n",
            "Definition: a piece of data that can be contained inside a variable.\n"
          ]
        }
      ],
      "source": [
        "# exercise 3\n",
        "cc = {'Ordinal Value': 'equivalent number of a character in Python.', 'List':'used to store multiple variables of the same type.'\n",
        ",'Sort Function':'used to sort list in alphabetical order.','Strings':'can be used to handle textual data in Python.',\n",
        "'Pop Function':'used to remove an item at the specified index from the list.','Syntax': 'grammatical rules of a programming language.',\n",
        "  'Value': 'a piece of data that can be contained inside a variable.'}\n",
        "\n",
        "for word, definition in cc.items():\n",
        "  print(f\"\\nWord: {word}\")\n",
        "  print(f\"\\nDefinition: {definition}\")"
      ]
    }
  ]
}