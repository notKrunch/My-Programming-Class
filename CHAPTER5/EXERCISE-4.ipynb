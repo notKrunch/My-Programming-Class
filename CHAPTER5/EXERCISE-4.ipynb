{
  "nbformat": 4,
  "nbformat_minor": 0,
  "metadata": {
    "colab": {
      "provenance": [],
      "collapsed_sections": [],
      "authorship_tag": "ABX9TyPIDqhyVoOMJuK7nSXZHxTw",
      "include_colab_link": true
    },
    "kernelspec": {
      "name": "python3",
      "display_name": "Python 3"
    },
    "language_info": {
      "name": "python"
    }
  },
  "cells": [
    {
      "cell_type": "markdown",
      "metadata": {
        "id": "view-in-github",
        "colab_type": "text"
      },
      "source": [
        "<a href=\"https://colab.research.google.com/github/notKrunch/My-Programming-Class/blob/main/CHAPTER5/EXERCISE-4.ipynb\" target=\"_parent\"><img src=\"https://colab.research.google.com/assets/colab-badge.svg\" alt=\"Open In Colab\"/></a>"
      ]
    },
    {
      "cell_type": "code",
      "execution_count": null,
      "metadata": {
        "colab": {
          "base_uri": "https://localhost:8080/"
        },
        "id": "BdsUgYaeMAya",
        "outputId": "79f70af8-1150-4ba8-9fdf-8182beeba139"
      },
      "outputs": [
        {
          "output_type": "stream",
          "name": "stdout",
          "text": [
            "Display river-country pairs:\n",
            "Ebro River  runs through  Spain\n",
            "Seine River  runs through  France\n",
            "Rhone River  runs through  Switzerland\n",
            "\n",
            "Display only River:\n",
            "Ebro River\n",
            "Seine River\n",
            "Rhone River\n",
            "\n",
            "Display only Country:\n",
            "Spain\n",
            "France\n",
            "Switzerland\n"
          ]
        }
      ],
      "source": [
        "# Dictionary containing rivers that runs through that country \n",
        "river_country = {'Ebro River':'Spain', 'Seine River':'France','Rhone River':'Switzerland'}\n",
        "print('Display river-country pairs:')\n",
        "for river, country in river_country.items():\n",
        " print(river, \" runs through \", country)\n",
        "\n",
        "print(\"\\nDisplay only River:\")\n",
        "for river in river_country.keys():\n",
        "  print(river) \n",
        "\n",
        "print(\"\\nDisplay only Country:\")\n",
        "for country in river_country.values():\n",
        "  print(country)"
      ]
    }
  ]
}