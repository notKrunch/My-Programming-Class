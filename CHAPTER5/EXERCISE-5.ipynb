{
  "nbformat": 4,
  "nbformat_minor": 0,
  "metadata": {
    "colab": {
      "provenance": [],
      "authorship_tag": "ABX9TyN13NJCGvGPiBKGLpGUO2TO",
      "include_colab_link": true
    },
    "kernelspec": {
      "name": "python3",
      "display_name": "Python 3"
    },
    "language_info": {
      "name": "python"
    }
  },
  "cells": [
    {
      "cell_type": "markdown",
      "metadata": {
        "id": "view-in-github",
        "colab_type": "text"
      },
      "source": [
        "<a href=\"https://colab.research.google.com/github/notKrunch/My-Programming-Class/blob/main/CHAPTER5/EXERCISE-5.ipynb\" target=\"_parent\"><img src=\"https://colab.research.google.com/assets/colab-badge.svg\" alt=\"Open In Colab\"/></a>"
      ]
    },
    {
      "cell_type": "code",
      "execution_count": 8,
      "metadata": {
        "colab": {
          "base_uri": "https://localhost:8080/"
        },
        "id": "ZenM54y_M4rP",
        "outputId": "2f6f2e42-f854-420e-fc53-7af6ecdcf183"
      },
      "outputs": [
        {
          "output_type": "stream",
          "name": "stdout",
          "text": [
            "\n",
            "Here's what I know about my pet, Yuuta:\n",
            "\n",
            " animal type : Dog\n",
            "\n",
            " name : Yuuta\n",
            "\n",
            " owner : Krunch\n",
            "\n",
            " weight : 20kg\n",
            "\n",
            " eats : Dog food\n",
            "\n",
            "Here's what I know about my pet, Zerotwo:\n",
            "\n",
            " animal type : Cat\n",
            "\n",
            " name : Zerotwo\n",
            "\n",
            " owner : Krunch\n",
            "\n",
            " weight : 10kg\n",
            "\n",
            " eats : Meat\n",
            "\n",
            "Here's what I know about my pet, Shoto:\n",
            "\n",
            " animal type : Lion\n",
            "\n",
            " name : Shoto\n",
            "\n",
            " owner : Krunch\n",
            "\n",
            " weight : 70kg\n",
            "\n",
            " eats : Meat\n"
          ]
        }
      ],
      "source": [
        "pets = []\n",
        "\n",
        "pet = {\n",
        "    'animal type': 'Dog',\n",
        "    'name' : 'Yuuta',\n",
        "    'owner' : 'Krunch',\n",
        "    'weight' : '20kg',\n",
        "    'eats' : 'Dog food',\n",
        "}\n",
        "pets.append(pet)\n",
        "pet = {\n",
        "    'animal type': 'Cat',\n",
        "    'name' : 'Zerotwo',\n",
        "    'owner' : 'Krunch',\n",
        "    'weight' : '10kg',\n",
        "    'eats' : 'Meat',\n",
        "}\n",
        "pets.append(pet)\n",
        "pet = {\n",
        "    'animal type': 'Lion',\n",
        "    'name' : 'Shoto',\n",
        "    'owner' : 'Krunch',\n",
        "    'weight' : '70kg',\n",
        "    'eats' : 'Meat',\n",
        "}\n",
        "pets.append(pet)\n",
        "\n",
        "for pet in pets:\n",
        "    print(f\"\\nHere's what I know about my pet, {pet['name'].title()}:\")\n",
        "    for key, value in pet.items():\n",
        "      print(f\"\\n {key} : {value}\")"
      ]
    }
  ]
}