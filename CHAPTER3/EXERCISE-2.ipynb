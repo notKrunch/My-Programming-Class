{
  "nbformat": 4,
  "nbformat_minor": 0,
  "metadata": {
    "colab": {
      "provenance": [],
      "collapsed_sections": [],
      "authorship_tag": "ABX9TyM6M8FXTFPhMllEjILm5Dlu",
      "include_colab_link": true
    },
    "kernelspec": {
      "name": "python3",
      "display_name": "Python 3"
    },
    "language_info": {
      "name": "python"
    }
  },
  "cells": [
    {
      "cell_type": "markdown",
      "metadata": {
        "id": "view-in-github",
        "colab_type": "text"
      },
      "source": [
        "<a href=\"https://colab.research.google.com/github/notKrunch/My-Programming-Class/blob/main/CHAPTER3/EXERCISE-2.ipynb\" target=\"_parent\"><img src=\"https://colab.research.google.com/assets/colab-badge.svg\" alt=\"Open In Colab\"/></a>"
      ]
    },
    {
      "cell_type": "code",
      "execution_count": 1,
      "metadata": {
        "colab": {
          "base_uri": "https://localhost:8080/"
        },
        "id": "7jSEayko1Py4",
        "outputId": "6851dbc5-561e-4a93-e0be-dc14088e8378"
      },
      "outputs": [
        {
          "output_type": "stream",
          "name": "stdout",
          "text": [
            "Hello,Gab!\n",
            "Hello,Renzie!\n",
            "Hello,Charls!\n",
            "Hello,Patricia!\n",
            "Hello,Ysabel!\n",
            "Hello,Yang!\n",
            "Hello,Raf!\n"
          ]
        }
      ],
      "source": [
        "# exercise 2\n",
        "names = ['Gab', 'Renzie', 'Charls', 'Patricia', 'Ysabel','Yang', 'Raf']\n",
        "# greet each friend by their names\n",
        "print(\"Hello,\" + names[0].title() + \"!\")\n",
        "print(\"Hello,\" + names[1].title() + \"!\")\n",
        "print(\"Hello,\" + names[2].title() + \"!\")\n",
        "print(\"Hello,\" + names[3].title() + \"!\")\n",
        "print(\"Hello,\" + names[4].title() + \"!\")\n",
        "print(\"Hello,\" + names[5].title() + \"!\")\n",
        "print(\"Hello,\" + names[6].title() + \"!\")"
      ]
    }
  ]
}