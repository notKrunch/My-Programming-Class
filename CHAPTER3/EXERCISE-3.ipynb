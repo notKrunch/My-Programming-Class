{
  "nbformat": 4,
  "nbformat_minor": 0,
  "metadata": {
    "colab": {
      "provenance": [],
      "collapsed_sections": [],
      "authorship_tag": "ABX9TyMDtVgQWlYg/N8mRYZOeudE",
      "include_colab_link": true
    },
    "kernelspec": {
      "name": "python3",
      "display_name": "Python 3"
    },
    "language_info": {
      "name": "python"
    }
  },
  "cells": [
    {
      "cell_type": "markdown",
      "metadata": {
        "id": "view-in-github",
        "colab_type": "text"
      },
      "source": [
        "<a href=\"https://colab.research.google.com/github/notKrunch/My-Programming-Class/blob/main/CHAPTER3/EXERCISE-3.ipynb\" target=\"_parent\"><img src=\"https://colab.research.google.com/assets/colab-badge.svg\" alt=\"Open In Colab\"/></a>"
      ]
    },
    {
      "cell_type": "code",
      "execution_count": 1,
      "metadata": {
        "colab": {
          "base_uri": "https://localhost:8080/"
        },
        "id": "2E9c8PY-1fCA",
        "outputId": "a614c212-7234-42fd-8835-7d96a68cac47"
      },
      "outputs": [
        {
          "output_type": "stream",
          "name": "stdout",
          "text": [
            "My favorite transportation is the usage of Car\n",
            "My second favorite transportation is the usage of Metro\n",
            "My least favorite transportation is the usage of Bus\n"
          ]
        }
      ],
      "source": [
        "# exercise 3\n",
        "transpo = ['car', 'metro', 'bus']\n",
        "print(\"My favorite transportation is the usage of \" + transpo[0].title())\n",
        "print(\"My second favorite transportation is the usage of \" + transpo[1].title())\n",
        "print(\"My least favorite transportation is the usage of \" + transpo[2].title())"
      ]
    }
  ]
}