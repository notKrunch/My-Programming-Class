{
  "nbformat": 4,
  "nbformat_minor": 0,
  "metadata": {
    "colab": {
      "provenance": [],
      "collapsed_sections": [],
      "authorship_tag": "ABX9TyP0w0ogXAFVhYn2FpKUJ1VP",
      "include_colab_link": true
    },
    "kernelspec": {
      "name": "python3",
      "display_name": "Python 3"
    },
    "language_info": {
      "name": "python"
    }
  },
  "cells": [
    {
      "cell_type": "markdown",
      "metadata": {
        "id": "view-in-github",
        "colab_type": "text"
      },
      "source": [
        "<a href=\"https://colab.research.google.com/github/notKrunch/My-Programming-Class/blob/main/CHAPTER3/EXERCISE-7.ipynb\" target=\"_parent\"><img src=\"https://colab.research.google.com/assets/colab-badge.svg\" alt=\"Open In Colab\"/></a>"
      ]
    },
    {
      "cell_type": "code",
      "execution_count": 1,
      "metadata": {
        "colab": {
          "base_uri": "https://localhost:8080/"
        },
        "id": "zp7yPsfw20Ax",
        "outputId": "8a909ba9-c9dc-45d7-b7da-98d10a11dd0a"
      },
      "outputs": [
        {
          "output_type": "stream",
          "name": "stdout",
          "text": [
            "['Italy', 'Switzerland', 'Hawaii', 'South Korea', 'Maldives']\n",
            "['Italy', 'Switzerland', 'Hawaii', 'South Korea', 'Maldives']\n",
            "['Maldives', 'South Korea', 'Hawaii', 'Switzerland', 'Italy']\n",
            "['Italy', 'Switzerland', 'Hawaii', 'South Korea', 'Maldives']\n",
            "['Hawaii', 'Italy', 'Maldives', 'South Korea', 'Switzerland']\n",
            "['Switzerland', 'South Korea', 'Maldives', 'Italy', 'Hawaii']\n"
          ]
        }
      ],
      "source": [
        "# exercise 7\n",
        "places = ['Italy', 'Switzerland', 'Hawaii', 'South Korea', 'Maldives']\n",
        "sorted(places)\n",
        "print(places)\n",
        "sorted(places,reverse=True)\n",
        "print(places)\n",
        "places.reverse()\n",
        "print(places)\n",
        "places.reverse()\n",
        "print(places)\n",
        "places.sort()\n",
        "print(places)\n",
        "places.sort(reverse=True)\n",
        "print(places)"
      ]
    }
  ]
}