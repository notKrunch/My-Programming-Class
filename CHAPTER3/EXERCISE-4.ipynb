{
  "nbformat": 4,
  "nbformat_minor": 0,
  "metadata": {
    "colab": {
      "provenance": [],
      "collapsed_sections": [],
      "authorship_tag": "ABX9TyNtihJhKKPu5r3XK+MzbOxt",
      "include_colab_link": true
    },
    "kernelspec": {
      "name": "python3",
      "display_name": "Python 3"
    },
    "language_info": {
      "name": "python"
    }
  },
  "cells": [
    {
      "cell_type": "markdown",
      "metadata": {
        "id": "view-in-github",
        "colab_type": "text"
      },
      "source": [
        "<a href=\"https://colab.research.google.com/github/notKrunch/My-Programming-Class/blob/main/CHAPTER3/EXERCISE-4.ipynb\" target=\"_parent\"><img src=\"https://colab.research.google.com/assets/colab-badge.svg\" alt=\"Open In Colab\"/></a>"
      ]
    },
    {
      "cell_type": "code",
      "execution_count": 1,
      "metadata": {
        "colab": {
          "base_uri": "https://localhost:8080/"
        },
        "id": "jOKX5LZR10ft",
        "outputId": "8fd392b9-1ee9-4cda-ddf7-e61071cadc50"
      },
      "outputs": [
        {
          "output_type": "stream",
          "name": "stdout",
          "text": [
            "Hey Renzie, I would like to invite you to dinner this weekend.\n",
            "Hey Gab, I would like to invite you to dinner this weekend.\n",
            "Hey Charls, I would like to invite you to dinner this weekend.\n"
          ]
        }
      ],
      "source": [
        "# exercise 4\n",
        "guest = ['Renzie', 'Gab', 'Charls']\n",
        "print(\"Hey \" + guest[0]+ \", I would like to invite you to dinner this weekend.\")\n",
        "print(\"Hey \" + guest[1]+ \", I would like to invite you to dinner this weekend.\")\n",
        "print(\"Hey \" + guest[2]+ \", I would like to invite you to dinner this weekend.\")"
      ]
    }
  ]
}