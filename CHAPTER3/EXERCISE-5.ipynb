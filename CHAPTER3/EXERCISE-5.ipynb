{
  "nbformat": 4,
  "nbformat_minor": 0,
  "metadata": {
    "colab": {
      "provenance": [],
      "collapsed_sections": [],
      "authorship_tag": "ABX9TyOlXVMELNGuf4gk/O7IJdnj",
      "include_colab_link": true
    },
    "kernelspec": {
      "name": "python3",
      "display_name": "Python 3"
    },
    "language_info": {
      "name": "python"
    }
  },
  "cells": [
    {
      "cell_type": "markdown",
      "metadata": {
        "id": "view-in-github",
        "colab_type": "text"
      },
      "source": [
        "<a href=\"https://colab.research.google.com/github/notKrunch/My-Programming-Class/blob/main/CHAPTER3/EXERCISE-5.ipynb\" target=\"_parent\"><img src=\"https://colab.research.google.com/assets/colab-badge.svg\" alt=\"Open In Colab\"/></a>"
      ]
    },
    {
      "cell_type": "code",
      "execution_count": 1,
      "metadata": {
        "colab": {
          "base_uri": "https://localhost:8080/"
        },
        "id": "bICSbFR82Gc1",
        "outputId": "814618af-bbde-442e-98ff-6961527ccb8c"
      },
      "outputs": [
        {
          "output_type": "stream",
          "name": "stdout",
          "text": [
            "Renzie can't make it to dinner.\n",
            "Gab can make it to dinnner.\n",
            "Charls can make it to dinnner.\n",
            "['Raf', 'Gab', 'Charls'] can make it to dinner.\n"
          ]
        }
      ],
      "source": [
        "# exercise 5\n",
        "guest = ['Renzie', 'Gab', 'Charls']\n",
        "print(guest[0] + \" can't make it to dinner.\")\n",
        "print(guest[1] + \" can make it to dinnner.\")\n",
        "print(guest[2] + \" can make it to dinnner.\")\n",
        "\n",
        "guest[0]=\"Raf\"\n",
        "\n",
        "print((guest),  \"can make it to dinner.\")"
      ]
    }
  ]
}