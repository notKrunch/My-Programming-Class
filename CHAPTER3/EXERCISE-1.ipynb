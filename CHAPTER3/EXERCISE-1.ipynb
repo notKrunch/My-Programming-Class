{
  "nbformat": 4,
  "nbformat_minor": 0,
  "metadata": {
    "colab": {
      "provenance": [],
      "collapsed_sections": [],
      "authorship_tag": "ABX9TyPoajTz9Dol/j21dkpxMtEW",
      "include_colab_link": true
    },
    "kernelspec": {
      "name": "python3",
      "display_name": "Python 3"
    },
    "language_info": {
      "name": "python"
    }
  },
  "cells": [
    {
      "cell_type": "markdown",
      "metadata": {
        "id": "view-in-github",
        "colab_type": "text"
      },
      "source": [
        "<a href=\"https://colab.research.google.com/github/notKrunch/My-Programming-Class/blob/main/CHAPTER3/EXERCISE-1.ipynb\" target=\"_parent\"><img src=\"https://colab.research.google.com/assets/colab-badge.svg\" alt=\"Open In Colab\"/></a>"
      ]
    },
    {
      "cell_type": "code",
      "execution_count": null,
      "metadata": {
        "colab": {
          "base_uri": "https://localhost:8080/"
        },
        "id": "c6zZKEkg05sz",
        "outputId": "2ab484c9-00e6-46ac-9670-4f001156628c"
      },
      "outputs": [
        {
          "output_type": "stream",
          "name": "stdout",
          "text": [
            "Renzie\n",
            "Gab\n",
            "Charls\n",
            "Ysa\n",
            "Pat\n",
            "Yang\n",
            "Raf\n"
          ]
        }
      ],
      "source": [
        "# Printing each element inside the list one by one\n",
        "\n",
        "friends = ['renzie', 'gab', 'charls', 'ysa', 'pat', 'yang', 'raf']\n",
        "print(friends[0].title())\n",
        "print(friends[1].title())\n",
        "print(friends[2].title())\n",
        "print(friends[3].title())\n",
        "print(friends[4].title())\n",
        "print(friends[5].title())\n",
        "print(friends[6].title())"
      ]
    }
  ]
}