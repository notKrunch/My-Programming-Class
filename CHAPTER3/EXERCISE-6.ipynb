{
  "nbformat": 4,
  "nbformat_minor": 0,
  "metadata": {
    "colab": {
      "provenance": [],
      "collapsed_sections": [],
      "authorship_tag": "ABX9TyMBqfxXPHlcCSwfYTDVci8q",
      "include_colab_link": true
    },
    "kernelspec": {
      "name": "python3",
      "display_name": "Python 3"
    },
    "language_info": {
      "name": "python"
    }
  },
  "cells": [
    {
      "cell_type": "markdown",
      "metadata": {
        "id": "view-in-github",
        "colab_type": "text"
      },
      "source": [
        "<a href=\"https://colab.research.google.com/github/notKrunch/My-Programming-Class/blob/main/CHAPTER3/EXERCISE-6.ipynb\" target=\"_parent\"><img src=\"https://colab.research.google.com/assets/colab-badge.svg\" alt=\"Open In Colab\"/></a>"
      ]
    },
    {
      "cell_type": "code",
      "execution_count": null,
      "metadata": {
        "colab": {
          "base_uri": "https://localhost:8080/"
        },
        "id": "PDf5XU762gck",
        "outputId": "f995de2a-62ae-4762-f9d0-672068adac80"
      },
      "outputs": [
        {
          "output_type": "stream",
          "name": "stdout",
          "text": [
            "Hi everyone! sorry but I can only invite two people for dinner.\n",
            "['Gab', 'Charls', 'Raf']\n",
            "Sorry Renzie I can't invite you for dinner.\n",
            "['Gab', 'Raf']\n",
            "Sorry Charls I can't invite you for dinner.\n",
            "Hey Gab and Raf, both of you are invited for dinner.\n",
            "[]\n"
          ]
        }
      ],
      "source": [
        "# Making the guest list available for only 2 people.\n",
        "guest = ['Renzie', 'Gab', 'Charls', 'Raf']\n",
        "print('Hi everyone! sorry but I can only invite two people for dinner.')\n",
        "first_guest=guest.pop(0)\n",
        "print(guest)\n",
        "print('Sorry', first_guest, \"I can't invite you for dinner.\")\n",
        "second_guest=guest.pop(1)\n",
        "print(guest)\n",
        "print('Sorry', second_guest, \"I can't invite you for dinner.\")\n",
        "print('Hey Gab and Raf, both of you are invited for dinner.')\n",
        "guest.remove('Gab')\n",
        "guest.remove('Raf')\n",
        "print(guest)\n",
        "\n",
        "\n"
      ]
    }
  ]
}