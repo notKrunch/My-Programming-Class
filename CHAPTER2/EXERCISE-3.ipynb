{
  "nbformat": 4,
  "nbformat_minor": 0,
  "metadata": {
    "colab": {
      "provenance": [],
      "collapsed_sections": [],
      "authorship_tag": "ABX9TyPlMet1Xsrp/TihjZxgiY7D",
      "include_colab_link": true
    },
    "kernelspec": {
      "name": "python3",
      "display_name": "Python 3"
    },
    "language_info": {
      "name": "python"
    }
  },
  "cells": [
    {
      "cell_type": "markdown",
      "metadata": {
        "id": "view-in-github",
        "colab_type": "text"
      },
      "source": [
        "<a href=\"https://colab.research.google.com/github/notKrunch/My-Programming-Class/blob/main/CHAPTER2/EXERCISE-3.ipynb\" target=\"_parent\"><img src=\"https://colab.research.google.com/assets/colab-badge.svg\" alt=\"Open In Colab\"/></a>"
      ]
    },
    {
      "cell_type": "code",
      "execution_count": null,
      "metadata": {
        "id": "EcdX4knn6Hh0",
        "colab": {
          "base_uri": "https://localhost:8080/"
        },
        "outputId": "e6f67ee2-1e9e-45f6-d27d-8232b12730c3"
      },
      "outputs": [
        {
          "output_type": "stream",
          "name": "stdout",
          "text": [
            "  \thow are \n",
            "you?\n",
            "how are \n",
            "you?\n"
          ]
        }
      ],
      "source": [
        "# use of lstrip() function to remove spaces from left side of the string \n",
        "\n",
        "word='  \\thow are \\nyou?'\n",
        "new_word=word.lstrip()\n",
        "print(word)\n",
        "print(new_word)"
      ]
    }
  ]
}