{
  "nbformat": 4,
  "nbformat_minor": 0,
  "metadata": {
    "colab": {
      "provenance": [],
      "authorship_tag": "ABX9TyPbxjMqiNTGLz6lzg8iMtxe",
      "include_colab_link": true
    },
    "kernelspec": {
      "name": "python3",
      "display_name": "Python 3"
    },
    "language_info": {
      "name": "python"
    }
  },
  "cells": [
    {
      "cell_type": "markdown",
      "metadata": {
        "id": "view-in-github",
        "colab_type": "text"
      },
      "source": [
        "<a href=\"https://colab.research.google.com/github/notKrunch/My-Programming-Class/blob/main/CHAPTER2/EXERCISE-5.ipynb\" target=\"_parent\"><img src=\"https://colab.research.google.com/assets/colab-badge.svg\" alt=\"Open In Colab\"/></a>"
      ]
    },
    {
      "cell_type": "code",
      "execution_count": null,
      "metadata": {
        "colab": {
          "base_uri": "https://localhost:8080/"
        },
        "id": "FFiCUoUH869z",
        "outputId": "4bb07cf4-1a13-4842-c6f0-929e5c7958f7"
      },
      "outputs": [
        {
          "output_type": "stream",
          "name": "stdout",
          "text": [
            "money: 50\n",
            "usb sticks: 6\n",
            "amount: 8\n",
            "change: 2\n"
          ]
        }
      ],
      "source": [
        "# Writing a program to calculate the amount of usb sticks can be bought and the change.\n",
        "money= 50\n",
        "usb_sticks= 6\n",
        "amount= money//usb_sticks\n",
        "change= money-usb_sticks*amount\n",
        "\n",
        "print(\"money:\", money)\n",
        "print(\"usb sticks:\", usb_sticks)\n",
        "print(\"amount:\", amount)\n",
        "print(\"change:\", change)"
      ]
    }
  ]
}