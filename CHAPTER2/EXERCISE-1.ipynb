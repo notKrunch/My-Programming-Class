{
  "nbformat": 4,
  "nbformat_minor": 0,
  "metadata": {
    "colab": {
      "provenance": [],
      "collapsed_sections": [],
      "authorship_tag": "ABX9TyN4c1Eo8yNBR23Z8D1KuV71",
      "include_colab_link": true
    },
    "kernelspec": {
      "name": "python3",
      "display_name": "Python 3"
    },
    "language_info": {
      "name": "python"
    }
  },
  "cells": [
    {
      "cell_type": "markdown",
      "metadata": {
        "id": "view-in-github",
        "colab_type": "text"
      },
      "source": [
        "<a href=\"https://colab.research.google.com/github/notKrunch/My-Programming-Class/blob/main/CHAPTER2/EXERCISE-1.ipynb\" target=\"_parent\"><img src=\"https://colab.research.google.com/assets/colab-badge.svg\" alt=\"Open In Colab\"/></a>"
      ]
    },
    {
      "cell_type": "code",
      "execution_count": null,
      "metadata": {
        "colab": {
          "base_uri": "https://localhost:8080/"
        },
        "id": "RjmpXdeG7GxV",
        "outputId": "c9664b98-3394-48cc-92a1-37c9c10cf39c"
      },
      "outputs": [
        {
          "output_type": "stream",
          "name": "stdout",
          "text": [
            "My name is Ryan\n",
            "Good Evening!\n"
          ]
        }
      ],
      "source": [
        "# Writing a program with the same variable and printing with different message.\n",
        "a = 'My name is Ryan'\n",
        "print(a)\n",
        "\n",
        "a = 'Good Evening!'\n",
        "print(a)"
      ]
    }
  ]
}