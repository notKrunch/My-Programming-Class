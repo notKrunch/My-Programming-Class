{
  "nbformat": 4,
  "nbformat_minor": 0,
  "metadata": {
    "colab": {
      "provenance": [],
      "collapsed_sections": [],
      "authorship_tag": "ABX9TyOmvAHWTcAWNjDj7THeabfu",
      "include_colab_link": true
    },
    "kernelspec": {
      "name": "python3",
      "display_name": "Python 3"
    },
    "language_info": {
      "name": "python"
    }
  },
  "cells": [
    {
      "cell_type": "markdown",
      "metadata": {
        "id": "view-in-github",
        "colab_type": "text"
      },
      "source": [
        "<a href=\"https://colab.research.google.com/github/notKrunch/My-Programming-Class/blob/main/CHAPTER6/EXERCISE-5.ipynb\" target=\"_parent\"><img src=\"https://colab.research.google.com/assets/colab-badge.svg\" alt=\"Open In Colab\"/></a>"
      ]
    },
    {
      "cell_type": "code",
      "execution_count": 19,
      "metadata": {
        "colab": {
          "base_uri": "https://localhost:8080/"
        },
        "id": "dLZ3bL_IWzj1",
        "outputId": "4663ae36-7740-4d32-ef04-fdd5bda6fa5e"
      },
      "outputs": [
        {
          "output_type": "stream",
          "name": "stdout",
          "text": [
            "The deli has run out of Pastrami.\n",
            "\n",
            "\n",
            "I made your Sausage n' Egg sandwich.\n",
            "I made your Turkey sandwich.\n",
            "I made your Grilled Cheese sandwich.\n",
            "I made your Bacon n' Ham sandwich.\n",
            "\n",
            "\n",
            "Sandwich Orders:\n",
            "Sausage n' Egg Sandwich\n",
            "Turkey Sandwich\n",
            "Grilled Cheese Sandwich\n",
            "Bacon n' Ham Sandwich\n"
          ]
        }
      ],
      "source": [
        "# exercise 5\n",
        "print('The deli has run out of Pastrami.')\n",
        "print('\\n')\n",
        "sandwich_orders=[\"Bacon n' Ham\",'Grilled Cheese','Turkey',\"Sausage n' Egg\",\"Pastrami\"]\n",
        "finished_sandwiches = []\n",
        "\n",
        "for sandwich in sandwich_orders:\n",
        "  if sandwich == 'Pastrami':\n",
        "    sandwich_orders.remove(sandwich)\n",
        "\n",
        "while sandwich_orders:\n",
        "  current_sandwich = sandwich_orders.pop()\n",
        "  print(\"I made your \" + current_sandwich + \" sandwich.\")\n",
        "  finished_sandwiches.append(current_sandwich)\n",
        "\n",
        "print(\"\\n\")\n",
        "print('Sandwich Orders:')\n",
        "for sandwich in finished_sandwiches:\n",
        "  print(sandwich, 'Sandwich')\n",
        "\n",
        "    "
      ]
    }
  ]
}