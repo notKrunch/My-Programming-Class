{
  "nbformat": 4,
  "nbformat_minor": 0,
  "metadata": {
    "colab": {
      "provenance": [],
      "collapsed_sections": [],
      "authorship_tag": "ABX9TyOQcTnECh3xAtXInohVGqMp",
      "include_colab_link": true
    },
    "kernelspec": {
      "name": "python3",
      "display_name": "Python 3"
    },
    "language_info": {
      "name": "python"
    }
  },
  "cells": [
    {
      "cell_type": "markdown",
      "metadata": {
        "id": "view-in-github",
        "colab_type": "text"
      },
      "source": [
        "<a href=\"https://colab.research.google.com/github/notKrunch/My-Programming-Class/blob/main/CHAPTER6/EXERCISE-1.ipynb\" target=\"_parent\"><img src=\"https://colab.research.google.com/assets/colab-badge.svg\" alt=\"Open In Colab\"/></a>"
      ]
    },
    {
      "cell_type": "code",
      "execution_count": null,
      "metadata": {
        "id": "fP-QMHn2Pif3"
      },
      "outputs": [],
      "source": [
        "# exercise 1\n",
        "c_name = \"\\nPlease enter the topping you want to put in a pizza:\"\n",
        "c_name += \"\\n(Enter 'quit' when you are finish putting toppings.) \"\n",
        "\n",
        "while True:\n",
        "   topping = input(c_name)\n",
        "\n",
        "   if topping == 'quit': \n",
        "                  break\n",
        "   else:\n",
        "        print(f\"I'd love to put {topping.title()}\" + \" in my pizza!\")             "
      ]
    }
  ]
}