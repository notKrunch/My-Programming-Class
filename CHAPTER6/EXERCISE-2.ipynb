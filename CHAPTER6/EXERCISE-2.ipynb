{
  "nbformat": 4,
  "nbformat_minor": 0,
  "metadata": {
    "colab": {
      "provenance": [],
      "collapsed_sections": [],
      "authorship_tag": "ABX9TyPqb4yzLQBfKpdE1JS+22SQ",
      "include_colab_link": true
    },
    "kernelspec": {
      "name": "python3",
      "display_name": "Python 3"
    },
    "language_info": {
      "name": "python"
    }
  },
  "cells": [
    {
      "cell_type": "markdown",
      "metadata": {
        "id": "view-in-github",
        "colab_type": "text"
      },
      "source": [
        "<a href=\"https://colab.research.google.com/github/notKrunch/My-Programming-Class/blob/main/CHAPTER6/EXERCISE-2.ipynb\" target=\"_parent\"><img src=\"https://colab.research.google.com/assets/colab-badge.svg\" alt=\"Open In Colab\"/></a>"
      ]
    },
    {
      "cell_type": "code",
      "execution_count": null,
      "metadata": {
        "colab": {
          "base_uri": "https://localhost:8080/"
        },
        "id": "tO6iGtR2QWag",
        "outputId": "e8a92e4a-f459-4be1-95a4-8320a43358fa"
      },
      "outputs": [
        {
          "output_type": "stream",
          "name": "stdout",
          "text": [
            "Please enter your age to know the cost of your movie ticket:\n",
            "16\n",
            "The ticket is $15.\n"
          ]
        }
      ],
      "source": [
        "# Cost of movie ticket depending on the customer's age\n",
        "\n",
        "print(\"Please enter your age to know the cost of your movie ticket:\")\n",
        "age = int(input())\n",
        "\n",
        "if age < 3:\n",
        "  print('The ticket is free.')\n",
        "elif age == 3 :\n",
        "  print('The ticket is $10.')\n",
        "elif age < 12 :\n",
        "  print('The ticket is $10.')\n",
        "elif age > 12 :\n",
        "  print('The ticket is $15.')"
      ]
    }
  ]
}