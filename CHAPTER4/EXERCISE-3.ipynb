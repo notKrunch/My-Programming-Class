{
  "nbformat": 4,
  "nbformat_minor": 0,
  "metadata": {
    "colab": {
      "provenance": [],
      "collapsed_sections": [],
      "authorship_tag": "ABX9TyORZMBEYPRickAPHaYkE4nr",
      "include_colab_link": true
    },
    "kernelspec": {
      "name": "python3",
      "display_name": "Python 3"
    },
    "language_info": {
      "name": "python"
    }
  },
  "cells": [
    {
      "cell_type": "markdown",
      "metadata": {
        "id": "view-in-github",
        "colab_type": "text"
      },
      "source": [
        "<a href=\"https://colab.research.google.com/github/notKrunch/My-Programming-Class/blob/main/CHAPTER4/EXERCISE-3.ipynb\" target=\"_parent\"><img src=\"https://colab.research.google.com/assets/colab-badge.svg\" alt=\"Open In Colab\"/></a>"
      ]
    },
    {
      "cell_type": "code",
      "execution_count": 5,
      "metadata": {
        "colab": {
          "base_uri": "https://localhost:8080/"
        },
        "id": "g1SzcVJ90Ot4",
        "outputId": "ee261d61-c62d-458b-b5fe-d69f66f42472"
      },
      "outputs": [
        {
          "output_type": "stream",
          "name": "stdout",
          "text": [
            "Which alien color did you used to shoot the aliens: red\n",
            "you just earned 15 points\n"
          ]
        }
      ],
      "source": [
        "# exercise 3\n",
        "\n",
        "alien_color = str(input(\"Which alien color did you used to shoot the aliens: \"))\n",
        "\n",
        "if alien_color == 'green':\n",
        " print('you just earned 5 points')\n",
        "\n",
        "elif alien_color == 'yellow':\n",
        " print('you just earned 10 points')\n",
        "\n",
        "elif alien_color == 'red':\n",
        " print('you just earned 15 points')\n",
        "\n",
        "else:\n",
        " print('you earned nothing.')\n"
      ]
    }
  ]
}