{
  "nbformat": 4,
  "nbformat_minor": 0,
  "metadata": {
    "colab": {
      "provenance": [],
      "collapsed_sections": [],
      "authorship_tag": "ABX9TyNfFuinJcDZT8CQPzenWiJZ",
      "include_colab_link": true
    },
    "kernelspec": {
      "name": "python3",
      "display_name": "Python 3"
    },
    "language_info": {
      "name": "python"
    }
  },
  "cells": [
    {
      "cell_type": "markdown",
      "metadata": {
        "id": "view-in-github",
        "colab_type": "text"
      },
      "source": [
        "<a href=\"https://colab.research.google.com/github/notKrunch/My-Programming-Class/blob/main/CHAPTER4/EXERCISE-1.ipynb\" target=\"_parent\"><img src=\"https://colab.research.google.com/assets/colab-badge.svg\" alt=\"Open In Colab\"/></a>"
      ]
    },
    {
      "cell_type": "code",
      "execution_count": null,
      "metadata": {
        "id": "MEc4I6iWy1cf"
      },
      "outputs": [],
      "source": [
        "# exercise 1 ( Write a program to print 'you just earned 5 points' if the alien color is green )\n",
        "\n",
        "alien_color = 'green'\n",
        "\n",
        "if alien_color == 'green':\n",
        "  print(' you just earned 5 points.')\n",
        "\n",
        "alien_color = 'yellow'\n",
        "\n",
        "if alien_color == 'green':\n",
        "  print(' you just earned 5 points')\n",
        "\n",
        "alien_color = 'red'\n",
        "\n",
        "if alien_color == 'green':\n",
        "  print(' you just earned 5 points')\n"
      ]
    }
  ]
}