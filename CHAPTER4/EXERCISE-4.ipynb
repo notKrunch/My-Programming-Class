{
  "nbformat": 4,
  "nbformat_minor": 0,
  "metadata": {
    "colab": {
      "provenance": [],
      "collapsed_sections": [],
      "authorship_tag": "ABX9TyM+QEbImiP8wpwY1Aimny7x",
      "include_colab_link": true
    },
    "kernelspec": {
      "name": "python3",
      "display_name": "Python 3"
    },
    "language_info": {
      "name": "python"
    }
  },
  "cells": [
    {
      "cell_type": "markdown",
      "metadata": {
        "id": "view-in-github",
        "colab_type": "text"
      },
      "source": [
        "<a href=\"https://colab.research.google.com/github/notKrunch/My-Programming-Class/blob/main/CHAPTER4/EXERCISE-4.ipynb\" target=\"_parent\"><img src=\"https://colab.research.google.com/assets/colab-badge.svg\" alt=\"Open In Colab\"/></a>"
      ]
    },
    {
      "cell_type": "code",
      "execution_count": null,
      "metadata": {
        "colab": {
          "base_uri": "https://localhost:8080/"
        },
        "id": "pN2R8KG30vzN",
        "outputId": "0378141b-a582-48eb-aa7a-11f8aa9034ce"
      },
      "outputs": [
        {
          "output_type": "stream",
          "name": "stdout",
          "text": [
            "Enter a number to determine a person's stage of life: 69\n",
            "This person is an elder.\n"
          ]
        }
      ],
      "source": [
        "# Determining a person's stage of life\n",
        "person = float(input(\"Enter a number to determine a person's stage of life: \")) \n",
        "if person <2:\n",
        " print(\"This person is a baby.\")\n",
        "elif person ==2: \n",
        " print('This person is a toddler.')\n",
        "elif person <4 :\n",
        " print('This person is a toddler.')\n",
        "elif person ==4:\n",
        " print('This person is a kid.') \n",
        "elif person <13:\n",
        " print('This person is a kid.') \n",
        "elif person ==13:\n",
        " print('This person is a teenager.') \n",
        "elif person <20:\n",
        " print('This person is a teenager.') \n",
        "elif person ==20:\n",
        " print('This person is an adult.') \n",
        "elif person <65:\n",
        " print('This person is an adult.') \n",
        "elif person >=65:\n",
        " print('This person is an elder.')\n"
      ]
    }
  ]
}