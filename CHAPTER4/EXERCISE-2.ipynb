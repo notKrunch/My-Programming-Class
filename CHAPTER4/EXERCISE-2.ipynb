{
  "nbformat": 4,
  "nbformat_minor": 0,
  "metadata": {
    "colab": {
      "provenance": [],
      "collapsed_sections": [],
      "authorship_tag": "ABX9TyNv5uaR0P/l6cTBDD79xsks",
      "include_colab_link": true
    },
    "kernelspec": {
      "name": "python3",
      "display_name": "Python 3"
    },
    "language_info": {
      "name": "python"
    }
  },
  "cells": [
    {
      "cell_type": "markdown",
      "metadata": {
        "id": "view-in-github",
        "colab_type": "text"
      },
      "source": [
        "<a href=\"https://colab.research.google.com/github/notKrunch/My-Programming-Class/blob/main/CHAPTER4/EXERCISE-2.ipynb\" target=\"_parent\"><img src=\"https://colab.research.google.com/assets/colab-badge.svg\" alt=\"Open In Colab\"/></a>"
      ]
    },
    {
      "cell_type": "code",
      "execution_count": null,
      "metadata": {
        "colab": {
          "base_uri": "https://localhost:8080/"
        },
        "id": "b6ep0NKGzqO2",
        "outputId": "40b6d6ac-0700-44ac-d0d6-079da8d78f4a"
      },
      "outputs": [
        {
          "output_type": "stream",
          "name": "stdout",
          "text": [
            "Enter the color that you used to shoot the alien: purple\n",
            "you just earned 10 points.\n"
          ]
        }
      ],
      "source": [
        "# Writing a program in which when the alien color is green print \"earned 5 points\" but if different alien color print \"earned 10 points\"\n",
        "\n",
        "alien_color = str(input(\"Enter the color that you used to shoot the alien: \"))\n",
        "\n",
        "if alien_color == 'green':\n",
        " print('you just earned 5 points.')\n",
        "\n",
        "else:\n",
        "  print('you just earned 10 points.')\n"
      ]
    }
  ]
}