{
  "nbformat": 4,
  "nbformat_minor": 0,
  "metadata": {
    "colab": {
      "provenance": [],
      "collapsed_sections": [],
      "authorship_tag": "ABX9TyMRec2PaXUXsojRnUZbRGS4",
      "include_colab_link": true
    },
    "kernelspec": {
      "name": "python3",
      "display_name": "Python 3"
    },
    "language_info": {
      "name": "python"
    }
  },
  "cells": [
    {
      "cell_type": "markdown",
      "metadata": {
        "id": "view-in-github",
        "colab_type": "text"
      },
      "source": [
        "<a href=\"https://colab.research.google.com/github/notKrunch/My-Programming-Class/blob/main/CHAPTER4/EXERCISE-5.ipynb\" target=\"_parent\"><img src=\"https://colab.research.google.com/assets/colab-badge.svg\" alt=\"Open In Colab\"/></a>"
      ]
    },
    {
      "cell_type": "code",
      "execution_count": null,
      "metadata": {
        "colab": {
          "base_uri": "https://localhost:8080/"
        },
        "id": "Rq_HRnhY9N6j",
        "outputId": "2c023c3b-0a7b-4c06-e579-27f4bcdaf7bc"
      },
      "outputs": [
        {
          "output_type": "stream",
          "name": "stdout",
          "text": [
            "Mango is my favorite fruit!\n",
            "Avocado is my favorite fruit!\n",
            "Grapes is my favorite fruit!\n",
            "Banana is not my favorite fruit!\n",
            "Orange is not my favorite fruit!\n"
          ]
        }
      ],
      "source": [
        "# Writing five fruits and checking if that specific fruit is inside a list of favorite fruits\n",
        "a = 'mango'\n",
        "b = 'avocado'\n",
        "c = 'grapes'\n",
        "d = 'banana'\n",
        "e = 'orange'\n",
        "favorite_fruit = ['mango','avocado','grapes']\n",
        "\n",
        "if a in favorite_fruit:\n",
        "  print(a.title(),'is my favorite fruit!')\n",
        "if b in favorite_fruit:\n",
        "  print(b.title(),'is my favorite fruit!')\n",
        "if c in favorite_fruit:\n",
        "  print(c.title(),'is my favorite fruit!')\n",
        "if d not in favorite_fruit:\n",
        "  print(d.title(),'is not my favorite fruit!')\n",
        "if e not in favorite_fruit:\n",
        "  print(e.title(),'is not my favorite fruit!')\n"
      ]
    }
  ]
}